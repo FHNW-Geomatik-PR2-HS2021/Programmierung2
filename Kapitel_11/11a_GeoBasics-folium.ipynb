{
 "cells": [
  {
   "cell_type": "markdown",
   "metadata": {},
   "source": [
    "# Kapitel 11 - Teil 1\n"
   ]
  },
  {
   "cell_type": "markdown",
   "metadata": {},
   "source": [
    "## Folium\n",
    "\n",
    "Folium ist ein Python-Modul, welches mit einem einfachen Interface Webkarten erzeugen kann. Dabei wird die JavaScript Bibliothek \"Leaflet\" im Hintergrund verwendet. Diese ermöglicht das Zeichnen von Karten.\n",
    "\n",
    "https://python-visualization.github.io/folium/"
   ]
  },
  {
   "cell_type": "markdown",
   "metadata": {},
   "source": [
    "### Hello World mit Folium"
   ]
  },
  {
   "cell_type": "code",
   "execution_count": null,
   "metadata": {},
   "outputs": [],
   "source": [
    "import folium"
   ]
  },
  {
   "cell_type": "code",
   "execution_count": null,
   "metadata": {},
   "outputs": [],
   "source": [
    "m = folium.Map(location=[47.37825,8.5367835], zoom_start=15) # Zürich, Switzerland\n",
    "m"
   ]
  },
  {
   "cell_type": "markdown",
   "metadata": {},
   "source": [
    "Andere Kartenhintergründe"
   ]
  },
  {
   "cell_type": "code",
   "execution_count": null,
   "metadata": {},
   "outputs": [],
   "source": [
    "m = folium.Map(location=[47,8],\n",
    "           tiles='Stamen Toner',\n",
    "           zoom_start=6)\n",
    "m"
   ]
  },
  {
   "cell_type": "markdown",
   "metadata": {},
   "source": [
    "### Verwendung des swisstopo WMTS Layers\n",
    "\n",
    "Es ist auch möglich WMS und WMTS Layer zu verwenden, das heisst wir können auch z.B. Daten der swisstopo, oder von kantonen verwenden."
   ]
  },
  {
   "cell_type": "code",
   "execution_count": null,
   "metadata": {},
   "outputs": [],
   "source": [
    "m = folium.Map(location=[47.55655834594247, 7.592509335704225], tiles='', zoom_start=15)\n",
    " \n",
    "folium.raster_layers.TileLayer(\n",
    "    tiles=\"https://wmts.geo.admin.ch/1.0.0/ch.swisstopo.pixelkarte-farbe/default/current/3857/{z}/{x}/{y}.jpeg\",\n",
    "    attr=\"© swisstopo\", # dies müssen wir gemäss Nutzungsbedingunen angeben\n",
    "    name=\"pixelkarte-farbe\",\n",
    "    min_zoom=8,\n",
    "    max_zoom=18,\n",
    "    tms=False,\n",
    "    overlay=False,\n",
    "    control=False,\n",
    ").add_to(m)\n",
    "\n",
    "folium.LayerControl().add_to(m)\n",
    "\n",
    "m"
   ]
  },
  {
   "cell_type": "code",
   "execution_count": null,
   "metadata": {},
   "outputs": [],
   "source": [
    "m = folium.Map(location=[47.55655834594247, 7.592509335704225], tiles='', zoom_start=15)\n",
    " \n",
    "folium.raster_layers.TileLayer(\n",
    "    tiles=\"https://wmts.geo.admin.ch/1.0.0/ch.swisstopo.swissimage/default/current/3857/{z}/{x}/{y}.jpeg\",\n",
    "    attr=\"© swisstopo\", # dies müssen wir gemäss Nutzungsbedingunen angeben\n",
    "    name=\"pixelkarte-farbe\",\n",
    "    min_zoom=8,\n",
    "    max_zoom=18,\n",
    "    tms=False,\n",
    "    overlay=False,\n",
    "    control=False,\n",
    ").add_to(m)\n",
    "\n",
    "folium.LayerControl().add_to(m)\n",
    "\n",
    "m"
   ]
  },
  {
   "cell_type": "markdown",
   "metadata": {},
   "source": [
    "### Marker hinzufügen"
   ]
  },
  {
   "cell_type": "code",
   "execution_count": null,
   "metadata": {},
   "outputs": [],
   "source": [
    "m = folium.Map(location=[47.37825,8.5367835], zoom_start=16)\n",
    "\n",
    "folium.Marker([47.37695,8.5387885], popup=\"Hotel <b>Schweizerhof</b>\").add_to(m)\n",
    "folium.Marker([47.376386,8.5386506], popup=\"Hotel St. Gotthard\").add_to(m)\n",
    "m"
   ]
  },
  {
   "cell_type": "markdown",
   "metadata": {},
   "source": [
    "font-awesome (prefix \"fa\"): http://fontawesome.io/icons/"
   ]
  },
  {
   "cell_type": "code",
   "execution_count": null,
   "metadata": {},
   "outputs": [],
   "source": [
    "m = folium.Map(location=[47.37825,8.5367835], zoom_start=16)\n",
    "\n",
    "folium.Marker([47.37695,8.5387885], \n",
    "              popup=\"Hotel Schweizerhof\",\n",
    "              icon=folium.Icon(color=\"red\", prefix=\"fa\", icon=\"hotel\")).add_to(m)\n",
    "\n",
    "folium.Marker([47.376386,8.5386506], \n",
    "              popup=\"Hotel St. Gotthard\",\n",
    "              icon=folium.Icon(color=\"green\", prefix=\"fa\", icon=\"hotel\")).add_to(m)\n",
    "\n",
    "folium.Marker([47.376192, 8.540005], \n",
    "              popup=\"Hotel Townhouse\", \n",
    "              icon=folium.Icon(color=\"blue\", prefix=\"fa\", icon=\"car\")).add_to(m)\n",
    "\n",
    "m"
   ]
  },
  {
   "cell_type": "markdown",
   "metadata": {},
   "source": [
    "### Karte speichern"
   ]
  },
  {
   "cell_type": "code",
   "execution_count": null,
   "metadata": {},
   "outputs": [],
   "source": [
    "m = folium.Map(location=[47, 8], zoom_start=5)\n",
    "\n",
    "folium.Marker([45.922513343092916, 7.835574679184418], popup='Liskamm: 4527m').add_to(m)\n",
    "folium.Marker([45.941997570720375, 7.869820276613906], popup='Nordend: 4609m').add_to(m)\n",
    "folium.Marker([46.10902325837147, 7.863895545667632], popup='Nadelhorn: 4327m').add_to(m)\n",
    "folium.Marker([45.932186337151684, 7.8714190183674555], popup='Zumsteinspitze: 4563m').add_to(m)\n",
    "folium.Marker([46.08336532442726, 7.857296913890337], popup='Täschhorn: 4491m').add_to(m)\n",
    "folium.Marker([45.91669904679932, 7.863563975062021], popup='Ludwigshöhe: 4341m').add_to(m)\n",
    "folium.Marker([45.93756139078208, 7.299279971077615], popup='Grand Combin de Grafeneire: 4314m').add_to(m)\n",
    "folium.Marker([45.922513343092916, 7.835574679184418], popup='Lyskamm: 4527m').add_to(m)\n",
    "folium.Marker([45.93683662540408, 7.866814344981748], popup='Dufourspitze (Pointe Dufour): 4634m').add_to(m)\n",
    "folium.Marker([46.10129664518156, 7.716156885858494], popup='Weisshorn: 4506m').add_to(m)\n",
    "folium.Marker([45.976340506120614, 7.658691510512221], popup='Monte Cervino: 4478m').add_to(m)\n",
    "folium.Marker([45.976340506120614, 7.658691510512221], popup='Matterhorn: 4478m').add_to(m)\n",
    "folium.Marker([45.93674004101607, 7.86855410887458], popup='Grenzgipfel: 4618m').add_to(m)\n",
    "folium.Marker([45.92712756883081, 7.876921984235257], popup='Signalkuppe (Punta Gnifetti): 4554m').add_to(m)\n",
    "folium.Marker([46.093839189553464, 7.858928716434883], popup='Dom: 4545m').add_to(m)\n",
    "folium.Marker([46.107109586833495, 7.711724522200983], popup='Grand Gendarme: 4331m').add_to(m)\n",
    "folium.Marker([45.919638502715564, 7.8711910872756405], popup='Parrotspitze: 4432m').add_to(m)\n",
    "folium.Marker([46.093839189553464, 7.858928716434883], popup='Mischabel: 4545m').add_to(m)\n",
    "folium.Marker([46.03426257063022, 7.61204033560156], popup='Dent Blanche: 4357m').add_to(m)\n",
    "\n",
    "m.save(\"output.html\")\n",
    "m"
   ]
  },
  {
   "cell_type": "markdown",
   "metadata": {},
   "source": [
    "### Daten aus CSV"
   ]
  },
  {
   "cell_type": "markdown",
   "metadata": {},
   "source": [
    "Es wird der Datensatz von geonames.org genommen, mit Städten mit mehr als 5000 Einwohnern\n",
    "(cities5000.txt) http://download.geonames.org/export/dump/\n",
    "\n",
    "Direkter Link:\n",
    "http://download.geonames.org/export/dump/cities5000.zip\n",
    "\n",
    "Von diesem Datensatz werden mit \"pandas\" die Städte mit mehr als 5 Millionen Einwohner extrahiert.\n"
   ]
  },
  {
   "cell_type": "code",
   "execution_count": null,
   "metadata": {},
   "outputs": [],
   "source": [
    "import os\n",
    "import requests\n",
    "import shutil\n",
    "\n",
    "\n",
    "\n",
    "if not os.path.exists(\"daten\"):\n",
    "    os.mkdir(\"daten\")\n",
    "    \n",
    "    \n",
    "if not os.path.exists(\"daten/cities5000.zip\"):\n",
    "    response = requests.get(\"http://download.geonames.org/export/dump/cities5000.zip\")\n",
    "    file = open(\"daten/cities5000.zip\", \"wb\")\n",
    "    file.write(response.content)\n",
    "    file.close()\n",
    "    shutil.unpack_archive(\"daten/cities5000.zip\", \"daten\")"
   ]
  },
  {
   "cell_type": "markdown",
   "metadata": {},
   "source": [
    "File mit Pandas in CSV konvertieren (Einführung Pandas folgt im nächsten Teil)\n",
    "\n",
    "Nur Städte mit Einwohnern > 5000000 werden gespeichert!"
   ]
  },
  {
   "cell_type": "code",
   "execution_count": null,
   "metadata": {},
   "outputs": [],
   "source": [
    "import pandas as pd\n",
    "\n",
    "df = pd.read_csv(\"daten/cities5000.txt\", sep='\\t', header=None, encoding=\"utf-8\", low_memory=False)\n",
    "result = df[df[14] > 5000000][[1,4,5,14]]\n",
    "result.to_csv(\"daten/cities5000.csv\", header=None, encoding=\"utf-8\")"
   ]
  },
  {
   "cell_type": "code",
   "execution_count": null,
   "metadata": {},
   "outputs": [],
   "source": []
  },
  {
   "cell_type": "code",
   "execution_count": null,
   "metadata": {},
   "outputs": [],
   "source": [
    "m = folium.Map(location=[0,0], zoom_start=2)\n",
    "\n",
    "\n",
    "f = open(\"daten/cities5000.csv\", encoding=\"utf-8\")\n",
    "for r in f:\n",
    "    r = r.strip()\n",
    "    d = r.split(\",\")\n",
    "    \n",
    "    folium.Marker([float(d[2]),float(d[3])], \n",
    "              popup=d[1] + \"<br/>\" + d[4],\n",
    "              icon=folium.Icon(color=\"red\", prefix=\"fa\", icon=\"building\")).add_to(m)\n",
    "\n",
    "f.close()\n",
    "\n",
    "\n",
    "m"
   ]
  },
  {
   "cell_type": "markdown",
   "metadata": {},
   "source": [
    "### Marker Cluster\n",
    "\n",
    "Wir erstellen nun einen weiteren Datensatz mit allen Städten > 1500000 Einwohner. Für die Darstellung auf der Karte werden \"Marker Cluster\" verwendet, um die Menge besser abzudecken."
   ]
  },
  {
   "cell_type": "code",
   "execution_count": null,
   "metadata": {},
   "outputs": [],
   "source": [
    "import pandas as pd\n",
    "\n",
    "df = pd.read_csv(\"daten/cities5000.txt\", sep='\\t', header=None, encoding=\"utf-8\", low_memory=False)\n",
    "result = df[df[14] > 1500000][[1,4,5,14]]\n",
    "print(\"Anzahl Städte:\", len(result))\n",
    "result.to_csv(\"daten/cities5000_2.csv\", header=None, encoding=\"utf-8\")"
   ]
  },
  {
   "cell_type": "code",
   "execution_count": null,
   "metadata": {},
   "outputs": [],
   "source": [
    "from folium.plugins import MarkerCluster\n",
    "\n",
    "m = folium.Map(location=[0,0], zoom_start=2)\n",
    "\n",
    "marker_cluster = MarkerCluster().add_to(m)\n",
    "\n",
    "\n",
    "f = open(\"daten/cities5000_2.csv\", encoding=\"utf-8\")\n",
    "for r in f:\n",
    "    r = r.strip()\n",
    "    d = r.split(\",\")\n",
    "    \n",
    "    folium.Marker([float(d[2]),float(d[3])], \n",
    "              popup=d[1] + \"<br/>\" + d[4],\n",
    "              icon=folium.Icon(color=\"green\", \n",
    "                               prefix=\"fa\", \n",
    "                               icon=\"star\")).add_to(marker_cluster)\n",
    "\n",
    "f.close()\n",
    "m"
   ]
  },
  {
   "cell_type": "code",
   "execution_count": null,
   "metadata": {},
   "outputs": [],
   "source": []
  },
  {
   "cell_type": "code",
   "execution_count": null,
   "metadata": {},
   "outputs": [],
   "source": [
    "import pandas as pd\n",
    "\n",
    "df = pd.read_csv(\"daten/cities5000.txt\", sep='\\t', header=None, encoding=\"utf-8\", low_memory=False)\n",
    "result = df[df[14] > 15000][[1,4,5,14,17]]\n",
    "result = result[result[17] == \"Europe/Zurich\"]\n",
    "print(\"Anzahl Städte:\", len(result))\n",
    "result.to_csv(\"daten/cities5000_3.csv\", header=None, encoding=\"utf-8\")"
   ]
  },
  {
   "cell_type": "code",
   "execution_count": null,
   "metadata": {},
   "outputs": [],
   "source": [
    "result"
   ]
  },
  {
   "cell_type": "code",
   "execution_count": null,
   "metadata": {},
   "outputs": [],
   "source": [
    "from folium.plugins import MarkerCluster\n",
    "\n",
    "m = folium.Map(location=[47.37825,8.5367835], tiles='', zoom_start=7)\n",
    " \n",
    "folium.raster_layers.TileLayer(\n",
    "    tiles=\"https://wmts.geo.admin.ch/1.0.0/ch.swisstopo.pixelkarte-farbe/default/current/3857/{z}/{x}/{y}.jpeg\",\n",
    "    attr=\"(c) swisstopo\",\n",
    "    name=\"pixelkarte-farbe\",\n",
    "    min_zoom=1,\n",
    "    max_zoom=18,\n",
    "    tms=False,\n",
    "    overlay=True,\n",
    "    control=True,\n",
    ").add_to(m)\n",
    "\n",
    "\n",
    "marker_cluster = MarkerCluster(control=True).add_to(m)\n",
    "folium.LayerControl().add_to(m)\n",
    "\n",
    "\n",
    "f = open(\"daten/cities5000_3.csv\", encoding=\"utf-8\")\n",
    "for r in f:\n",
    "    r = r.strip()\n",
    "    d = r.split(\",\")\n",
    "    \n",
    "    folium.Marker([float(d[2]),float(d[3])], \n",
    "              popup=d[1] + \"<br/>\" + d[4],\n",
    "              icon=folium.Icon(color=\"green\", \n",
    "                               prefix=\"fa\", \n",
    "                               icon=\"star\")).add_to(marker_cluster)\n",
    "\n",
    "f.close()\n",
    "\n",
    "folium.LayerControl().add_to(m)\n",
    "m\n"
   ]
  },
  {
   "cell_type": "code",
   "execution_count": null,
   "metadata": {},
   "outputs": [],
   "source": []
  }
 ],
 "metadata": {
  "kernelspec": {
   "display_name": "Python 3",
   "language": "python",
   "name": "python3"
  },
  "language_info": {
   "codemirror_mode": {
    "name": "ipython",
    "version": 3
   },
   "file_extension": ".py",
   "mimetype": "text/x-python",
   "name": "python",
   "nbconvert_exporter": "python",
   "pygments_lexer": "ipython3",
   "version": "3.7.10"
  }
 },
 "nbformat": 4,
 "nbformat_minor": 4
}
