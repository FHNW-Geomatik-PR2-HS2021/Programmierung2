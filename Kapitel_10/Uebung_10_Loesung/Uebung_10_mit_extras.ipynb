{
 "cells": [
  {
   "cell_type": "markdown",
   "id": "9900cada-f5b0-4168-ac37-9d07ed9e5f12",
   "metadata": {},
   "source": [
    "# Aufgabe 1\n",
    "\n",
    "Erweitern Sie die Klasse `WGS84Coord` aus der Uebung 3:<br/>\n",
    "\n",
    "Zwei neue Methoden sollen hinzugefügt werden:\n",
    "\n",
    "`toLV95()` : gibt eine die Koordinate als LV95 zurück (E,N) <br/>\n",
    "\n",
    "`fromLV95(E,N)`: setzt die WGS84 Koordinate aus LV95 \n",
    "\n",
    "Es soll pyproj verwendet werden."
   ]
  },
  {
   "cell_type": "markdown",
   "id": "5edb656e-d7ab-4d73-b285-a2a84c9b5bbc",
   "metadata": {},
   "source": [
    "**Unsere Hilfefunktionen (Übung 3)**"
   ]
  },
  {
   "cell_type": "code",
   "execution_count": 85,
   "id": "190ee5cf-af5a-4c65-beba-aa81a5221c28",
   "metadata": {},
   "outputs": [],
   "source": [
    "from geoutils import check_latitude, check_longitude"
   ]
  },
  {
   "cell_type": "code",
   "execution_count": 86,
   "id": "e36dcf20-9261-4d1d-a5e8-f3fc41399e22",
   "metadata": {},
   "outputs": [
    {
     "name": "stderr",
     "output_type": "stream",
     "text": [
      "/Users/matus/Dropbox/FHNW/Lehre/PR2/HS2021/Programmierung2/Kapitel_10/Uebung_10_Loesung/geoutils.py:26: UserWarning: The latitude value 1231321 either too small or too large. Wrapping it into the interval [-90, 90]\n",
      "  warnings.warn(f\"The latitude value {lat} either too small or too large.\"\n"
     ]
    },
    {
     "data": {
      "text/plain": [
       "-59"
      ]
     },
     "execution_count": 86,
     "metadata": {},
     "output_type": "execute_result"
    }
   ],
   "source": [
    "# test mit Daten\n",
    "check_latitude(1231321)"
   ]
  },
  {
   "cell_type": "markdown",
   "id": "cad880aa-533b-441c-ab85-3fc3e53d2950",
   "metadata": {},
   "source": [
    "## 1) Ineffektive Lösung\n",
    "- `pyproj.Transformer` object in `to_LV95()` instanziert, jedes mal wenn diese aufgerufen wird "
   ]
  },
  {
   "cell_type": "code",
   "execution_count": 87,
   "id": "e298555e-5abc-4ea9-9deb-2b2f1ddd77b9",
   "metadata": {},
   "outputs": [],
   "source": [
    "from pyproj import Transformer\n",
    "\n",
    "\n",
    "class WGS84Coord:\n",
    "    def __init__(self, latitude=0, longitude=0):\n",
    "        self.longitude = longitude\n",
    "        self.latitude = latitude\n",
    "        self._n_calls_Transformer_from_crs = 0      # how many times have we instantiated the Transformer obj.?\n",
    "\n",
    "    def __repr__(self):\n",
    "        return f\"{type(self).__name__}(lat={self.latitude:.7f},lon={self.longitude:.7f})\"\n",
    "\n",
    "    def _set_longitude(self, longitude):\n",
    "        self._longitude = check_longitude(longitude)\n",
    "\n",
    "    def _get_longitude(self):\n",
    "        return self._longitude\n",
    "\n",
    "    def _set_latitude(self, latitude):\n",
    "        self._latitude = check_latitude(latitude)\n",
    "        \n",
    "    def _get_latitude(self):\n",
    "        return self._latitude \n",
    "\n",
    "    longitude = property(_get_longitude, _set_longitude)\n",
    "    latitude = property(_get_latitude, _set_latitude)\n",
    "\n",
    "    def to_LV95(self):\n",
    "        trans = Transformer.from_crs(\"EPSG:4326\",\"EPSG:2056\")\n",
    "        self._n_calls_Transformer_from_crs += 1\n",
    "        \n",
    "        return trans.transform(self.latitude, self.longitude)\n",
    "        \n",
    "    def from_LV95(self, E, N):\n",
    "        trans = Transformer.from_crs(\"EPSG:2056\", \"EPSG:4326\")\n",
    "        self._n_calls_Transformer_from_crs += 1\n",
    "        \n",
    "        self.latitude, self.longitude = trans.transform(E, N)"
   ]
  },
  {
   "cell_type": "code",
   "execution_count": 88,
   "id": "a0e3e1cd-72f2-4dd0-a150-fe77b9d5d6b7",
   "metadata": {},
   "outputs": [
    {
     "data": {
      "text/plain": [
       "WGS84Coord(lat=47.5348685,lon=7.6419605)"
      ]
     },
     "execution_count": 88,
     "metadata": {},
     "output_type": "execute_result"
    }
   ],
   "source": [
    "FHNW_wgs84 = 47.5348685, 7.6419605\n",
    "FHNW_lv95 = 2615311.0, 1264924.0\n",
    "\n",
    "wgs84coord = WGS84Coord(*FHNW_wgs84)\n",
    "wgs84coord"
   ]
  },
  {
   "cell_type": "code",
   "execution_count": 89,
   "id": "257e90ee-9dbb-4b83-8e43-d75a02ca153e",
   "metadata": {},
   "outputs": [
    {
     "name": "stdout",
     "output_type": "stream",
     "text": [
      "(2615310.999138606, 1264924.0013158186)\n",
      "(2633007.172850471, -4699599.679838558)\n",
      "WGS84Coord(lat=47.5348685,lon=7.6419605)\n",
      "\n"
     ]
    }
   ],
   "source": [
    "print(wgs84coord.to_LV95())\n",
    "\n",
    "wgs84coord.latitude, wgs84coord.latitude = 0, 0\n",
    "print(wgs84coord.to_LV95())     # Unsinn, müssen später beheben...\n",
    "\n",
    "wgs84coord.from_LV95(*FHNW_lv95)\n",
    "print(wgs84coord)\n",
    "print()"
   ]
  },
  {
   "cell_type": "markdown",
   "id": "1099af04-623f-4ced-b90f-336544b33f95",
   "metadata": {
    "jp-MarkdownHeadingCollapsed": true,
    "tags": []
   },
   "source": [
    "Wie oft haben wir `pyproj.Transformer.from_crs()` aufgerufen?\n",
    "- beim jeden Aufruf von `to_LV95` oder `from_LV95` generieren wir eine neue Instanz von `pyproj.Trannsformer`"
   ]
  },
  {
   "cell_type": "code",
   "execution_count": 90,
   "id": "29f793a7-fc38-4333-9848-9d6fa8d734b0",
   "metadata": {},
   "outputs": [
    {
     "data": {
      "text/plain": [
       "3"
      ]
     },
     "execution_count": 90,
     "metadata": {},
     "output_type": "execute_result"
    }
   ],
   "source": [
    "wgs84coord._n_calls_Transformer_from_crs"
   ]
  },
  {
   "cell_type": "markdown",
   "id": "64e2680f-29b2-41a6-9259-07ec60a0583f",
   "metadata": {
    "tags": []
   },
   "source": [
    "## 2) Effektivere Lösung\n",
    "- Konstruktion von `Transformer()` Objekt geschieht nur einmal in `__init__()`\n",
    "- `Transformer` Objekt wird als Attribut der Klasse gespeichert\n",
    "- nutzen wir die Tatsache aus, dass der `Transformer` in beide Richtugen rechnen kann:\n",
    "    - source_crs --> dest_crs:\n",
    "    ```python\n",
    "    trans.transform(lat, lon)\n",
    "    ```\n",
    "    - dest_crs --> source_crs:\n",
    "    ```python\n",
    "    trans.transform(E, N, direction=TransformDirection.INVERSE)\n",
    "    ```"
   ]
  },
  {
   "cell_type": "code",
   "execution_count": 91,
   "id": "837fc538-37df-422c-97fa-eb7a33669262",
   "metadata": {},
   "outputs": [],
   "source": [
    "from pyproj import Transformer\n",
    "from pyproj.enums import TransformDirection\n",
    "\n",
    "\n",
    "class WGS84Coord2:\n",
    "    def __init__(self, latitude=0, longitude=0):\n",
    "        self.longitude = longitude\n",
    "        self.latitude = latitude\n",
    "        self._trans = Transformer.from_crs(\"EPSG:4326\",\"EPSG:2056\")\n",
    "\n",
    "    def __repr__(self):\n",
    "        return f\"{type(self).__name__}(lat={self.latitude:.7f},lon={self.longitude:.7f})\"\n",
    "\n",
    "    def _set_longitude(self, longitude):\n",
    "        self._longitude = check_longitude(longitude)\n",
    "\n",
    "    def _get_longitude(self):\n",
    "        return self._longitude\n",
    "\n",
    "    def _set_latitude(self, latitude):\n",
    "        self._latitude = check_latitude(latitude)\n",
    "        \n",
    "    def _get_latitude(self):\n",
    "        return self._latitude \n",
    "\n",
    "    longitude = property(_get_longitude, _set_longitude)\n",
    "    latitude = property(_get_latitude, _set_latitude)\n",
    "\n",
    "    def to_LV95(self):\n",
    "        return self._trans.transform(self.latitude, self.longitude)\n",
    "        \n",
    "    def from_LV95(self, E, N):\n",
    "        self.latitude, self.longitude = self._trans.transform(\n",
    "            E, N, direction=TransformDirection.INVERSE)"
   ]
  },
  {
   "cell_type": "code",
   "execution_count": 92,
   "id": "9fe6fcdc-334e-4b7a-be83-2b98a6e81ac7",
   "metadata": {},
   "outputs": [
    {
     "name": "stdout",
     "output_type": "stream",
     "text": [
      "WGS84Coord(lat=47.5348685,lon=7.6419605)\n",
      "WGS84Coord2(lat=47.5348685,lon=7.6419605)\n"
     ]
    }
   ],
   "source": [
    "wgs84coord = WGS84Coord(*FHNW_wgs84)\n",
    "wgs84coord2 = WGS84Coord2(*FHNW_wgs84)\n",
    "\n",
    "print(wgs84coord)\n",
    "print(wgs84coord2)"
   ]
  },
  {
   "cell_type": "code",
   "execution_count": 93,
   "id": "7f992f34-b993-4535-9271-3f19cbedf76a",
   "metadata": {},
   "outputs": [
    {
     "name": "stdout",
     "output_type": "stream",
     "text": [
      "(2615310.999138606, 1264924.0013158186)\n",
      "(2615310.999138606, 1264924.0013158186)\n"
     ]
    }
   ],
   "source": [
    "print(wgs84coord.to_LV95())\n",
    "print(wgs84coord2.to_LV95())"
   ]
  },
  {
   "cell_type": "markdown",
   "id": "f568c053-d414-4630-9596-d96d7f907704",
   "metadata": {},
   "source": [
    "**Performance Vergleich** \n",
    "- mit `%timeit` [Magic Funktion](https://ipython.readthedocs.io/en/stable/interactive/magics.html)\n",
    "- `-r` Option: reapeats\n",
    "- `-o` Option: das Ergebnise als Wert ausgeben, dass wir in eine Python Variable schreiben könne"
   ]
  },
  {
   "cell_type": "code",
   "execution_count": 95,
   "id": "8c10893a-9dd5-4ed5-9e5a-6bd0357bcdae",
   "metadata": {},
   "outputs": [
    {
     "name": "stdout",
     "output_type": "stream",
     "text": [
      "9.25 ms ± 281 µs per loop (mean ± std. dev. of 10 runs, 100 loops each)\n"
     ]
    }
   ],
   "source": [
    "wgs84coord_time = %timeit -r 10 -o wgs84coord.to_LV95()  "
   ]
  },
  {
   "cell_type": "code",
   "execution_count": 96,
   "id": "267384e0-c536-453d-a2ef-e0eb09bb33c5",
   "metadata": {},
   "outputs": [
    {
     "name": "stdout",
     "output_type": "stream",
     "text": [
      "6.7 µs ± 465 ns per loop (mean ± std. dev. of 10 runs, 100000 loops each)\n"
     ]
    }
   ],
   "source": [
    "wgs84coord2_time = %timeit -r 10 -o wgs84coord2.to_LV95()"
   ]
  },
  {
   "cell_type": "code",
   "execution_count": 97,
   "id": "d6e69d0b-ca73-4079-9133-6e536eb9d99d",
   "metadata": {},
   "outputs": [
    {
     "name": "stdout",
     "output_type": "stream",
     "text": [
      "1382.1 mal schneller!!!\n"
     ]
    }
   ],
   "source": [
    "print(f\"{wgs84coord_time.average / wgs84coord2_time.average:.1f} mal schneller!!!\")"
   ]
  },
  {
   "cell_type": "markdown",
   "id": "b28e3d04-f157-45a6-b256-009570516f23",
   "metadata": {
    "tags": []
   },
   "source": [
    "## 3) Noch effektivere Lösung (advanced)\n",
    "- nicht jede Instanz von `WGS84Coord` braucht einen eigenen `Transformer` Objekt\n",
    "- 2 Möglichkeiten:\n",
    "    - `Transformer` Objekt als eine **globale Variable** \n",
    "    - `Transformer` Objekt als **Klassenattribut** \n",
    "    \n",
    "```python\n",
    "class MyClass:\n",
    "    cls_attr = \"foo\"  # class attribute is shared among all instances of the class\n",
    "    \n",
    "    def bar(self):\n",
    "        return MyClass.cls_attr   # one way to use a class attribute in instance methods\n",
    "    \n",
    "    def baz(self):\n",
    "        return self.cls_attr      # ... and another\n",
    "\n",
    "my_class = MyClass()\n",
    "print(my_class.bar())\n",
    "print(my_class.baz())\n",
    "```"
   ]
  },
  {
   "cell_type": "code",
   "execution_count": 98,
   "id": "2a65e693-b85b-450e-8acb-27d21b14888d",
   "metadata": {},
   "outputs": [],
   "source": [
    "from pyproj import Transformer\n",
    "from pyproj.enums import TransformDirection\n",
    "\n",
    "\n",
    "class WGS84Coord3:\n",
    "    _trans = Transformer.from_crs(\"EPSG:4326\",\"EPSG:2056\")   # class attribute\n",
    "    \n",
    "    def __init__(self, latitude=0, longitude=0):\n",
    "        self.longitude = longitude\n",
    "        self.latitude = latitude\n",
    "\n",
    "    def __repr__(self):\n",
    "        return f\"{type(self).__name__}(lat={self.latitude:.7f},lon={self.longitude:.7f})\"\n",
    "\n",
    "    def _set_longitude(self, longitude):\n",
    "        self._longitude = check_longitude(longitude)\n",
    "\n",
    "    def _get_longitude(self):\n",
    "        return self._longitude\n",
    "\n",
    "    def _set_latitude(self, latitude):\n",
    "        self._latitude = check_latitude(latitude)\n",
    "        \n",
    "    def _get_latitude(self):\n",
    "        return self._latitude \n",
    "\n",
    "    longitude = property(_get_longitude, _set_longitude)\n",
    "    latitude = property(_get_latitude, _set_latitude)\n",
    "\n",
    "    def to_LV95(self):\n",
    "        return self._trans.transform(self.latitude, self.longitude)\n",
    "        \n",
    "    def from_LV95(self, E, N):\n",
    "        self.latitude, self.longitude = self._trans.transform(\n",
    "            E, N, direction=TransformDirection.INVERSE)"
   ]
  },
  {
   "cell_type": "code",
   "execution_count": 99,
   "id": "a681eda6-257e-4edf-b2b4-d2bb0a686c6f",
   "metadata": {},
   "outputs": [
    {
     "data": {
      "text/plain": [
       "WGS84Coord3(lat=47.5348685,lon=7.6419605)"
      ]
     },
     "execution_count": 99,
     "metadata": {},
     "output_type": "execute_result"
    }
   ],
   "source": [
    "wgs84coord3 = WGS84Coord3(*FHNW_wgs84)\n",
    "wgs84coord3"
   ]
  },
  {
   "cell_type": "code",
   "execution_count": 100,
   "id": "ce281828-5318-4ac7-bd52-3ddc32b6b871",
   "metadata": {},
   "outputs": [
    {
     "name": "stdout",
     "output_type": "stream",
     "text": [
      "(2615310.999138606, 1264924.0013158186)\n",
      "(2615310.999138606, 1264924.0013158186)\n",
      "(2615310.999138606, 1264924.0013158186)\n"
     ]
    }
   ],
   "source": [
    "print(wgs84coord.to_LV95())\n",
    "print(wgs84coord2.to_LV95())\n",
    "print(wgs84coord3.to_LV95())"
   ]
  },
  {
   "cell_type": "markdown",
   "id": "66281f0f-eab6-4a7e-bf6a-4119a76612de",
   "metadata": {},
   "source": [
    "**Performance Vergleich** "
   ]
  },
  {
   "cell_type": "code",
   "execution_count": 101,
   "id": "27241342-431c-435e-841c-cd0666ed7868",
   "metadata": {},
   "outputs": [],
   "source": [
    "def run_on_10_objects_10_times(cls):\n",
    "    for _ in range(10):\n",
    "        obj = cls(*FHNW_wgs84)\n",
    "        for _ in range(10):\n",
    "            obj.to_LV95()"
   ]
  },
  {
   "cell_type": "code",
   "execution_count": 102,
   "id": "1dd84a0a-892b-4154-ae81-2566c69f280b",
   "metadata": {},
   "outputs": [
    {
     "name": "stdout",
     "output_type": "stream",
     "text": [
      "930 ms ± 31.7 ms per loop (mean ± std. dev. of 10 runs, 1 loop each)\n",
      "109 ms ± 12.8 ms per loop (mean ± std. dev. of 10 runs, 10 loops each)\n",
      "789 µs ± 201 µs per loop (mean ± std. dev. of 10 runs, 1000 loops each)\n"
     ]
    }
   ],
   "source": [
    "wgs84coord_time = %timeit -r 10 -o run_on_10_objects_10_times(WGS84Coord)\n",
    "wgs84coord2_time = %timeit -r 10 -o run_on_10_objects_10_times(WGS84Coord2)\n",
    "wgs84coord3_time = %timeit -r 10 -o run_on_10_objects_10_times(WGS84Coord3)"
   ]
  },
  {
   "cell_type": "code",
   "execution_count": 60,
   "id": "ea21de30-953c-4e3e-86de-442809a6daf1",
   "metadata": {},
   "outputs": [
    {
     "name": "stdout",
     "output_type": "stream",
     "text": [
      "WGS84Coord  speedup: 1.0\n",
      "WGS84Coord2 speedup: 9.9\n",
      "WGS84Coord3 speedup: 1386.1\n"
     ]
    }
   ],
   "source": [
    "print(f\"WGS84Coord  speedup: {wgs84coord_time.average / wgs84coord_time.average:.1f}\")\n",
    "print(f\"WGS84Coord2 speedup: {wgs84coord_time.average / wgs84coord2_time.average:.1f}\")\n",
    "print(f\"WGS84Coord3 speedup: {wgs84coord_time.average / wgs84coord3_time.average:.1f}\")"
   ]
  },
  {
   "cell_type": "markdown",
   "id": "43ab92c7-df0c-4ab9-b1bd-8bcb64da3bf0",
   "metadata": {},
   "source": [
    "### Weitere Verbesserungen (advanced)\n",
    "- Warnung wenn LV95 Koordinate angefragt werden außerhalb des vorgesehenen Geltungsbereichs\n",
    "- `from_LV95` soll ein **alternativer Konstruktor** sein (ählich wie `Transformer.from_crs()`):\n",
    "    - wird aufgerufen bevor überhaupt eine Klasseninstanz erstellt wird => wird als Klassenmethode implementiert\n",
    "    - eine Klassenmethode in Python wird mit einem `@classmethod` \"dekoriert\"\n",
    "    - bei einer Instanzmethode verwenden wir `self` als erstes Argument - die Methode hat dan Zugriff auf alle Instanzattribute und Methoden\n",
    "    - bei einer Klassenmethode verwenden wir `cls` (reine Konvention) \n",
    "    - eine Klassenmethode hat keinen Zugriff auf Instanzattribute, kann aber Instanzen konstruieren\n",
    "    - [Tutorial bei RealPython](https://realpython.com/instance-class-and-static-methods-demystified/)\n",
    "- `longitude` and `latitude` properties mit einem `@property` **Decorator** implementieren\n",
    "    - [Tutorial bei RealPython](https://realpython.com/python-property/)"
   ]
  },
  {
   "cell_type": "code",
   "execution_count": 103,
   "id": "328ec7c0-88e5-4dba-b0e4-3e1177024e8f",
   "metadata": {},
   "outputs": [],
   "source": [
    "import warnings\n",
    "warnings.simplefilter('always', UserWarning)\n",
    "\n",
    "from pyproj import CRS, Transformer\n",
    "from pyproj.enums import TransformDirection\n",
    "\n",
    "\n",
    "class WGS84Coord4:\n",
    "    # class attributes\n",
    "    _wgs84 = CRS.from_epsg(4326)\n",
    "    _lv95 = CRS.from_epsg(2056)\n",
    "    \n",
    "    _trans = Transformer.from_crs(_wgs84, _lv95)\n",
    "    _limit_W, _limit_S, _limit_E, _limit_N = _lv95.area_of_use.bounds   # Geltungsbereich\n",
    "    \n",
    "    def __init__(self, latitude=0, longitude=0):\n",
    "        self.longitude = longitude\n",
    "        self.latitude = latitude\n",
    "\n",
    "    def __repr__(self):\n",
    "        return f\"{type(self).__name__}(lat={self.latitude:.7f},lon={self.longitude:.7f})\"\n",
    "    \n",
    "    # Die Übliche Schreibeweise für `property` Attribuite in Python\n",
    "    # ist mit einem Decorator `@property` für getter und `@myfunc.setter` für den setter\n",
    "    # die Methode hat in beiden Fällen den gleichen Namen (myfunc)\n",
    "    @property\n",
    "    def longitude(self):\n",
    "        return self._longitude\n",
    "    \n",
    "    @longitude.setter\n",
    "    def longitude(self, longitude):\n",
    "        self._longitude = check_longitude(longitude)\n",
    "    \n",
    "    @property\n",
    "    def latitude(self):\n",
    "        return self._latitude\n",
    "    \n",
    "    @latitude.setter\n",
    "    def latitude(self, latitude):\n",
    "        self._latitude = check_latitude(latitude)\n",
    "\n",
    "    def to_LV95(self):\n",
    "        # Is in den Geltungsbereich von LV95?\n",
    "        if (self._limit_S <= self.latitude <= self._limit_N) and \\\n",
    "           (self._limit_W <= self.longitude <= self._limit_E):\n",
    "            return self._trans.transform(self.latitude, self.longitude)\n",
    "        else:\n",
    "            warnings.warn(f\"Die Lat/Lon Werte ({self.latitude}, {self.longitude}) sind außerhalb des Geltungsbereichs:\\n\"\n",
    "                          f\"{self._lv95.area_of_use}\") \n",
    "        \n",
    "    @classmethod\n",
    "    def from_LV95(cls, E, N):\n",
    "        lat, lon = cls._trans.transform(E, N, direction=TransformDirection.INVERSE)\n",
    "        \n",
    "        return cls(lat, lon)   # wird ersetzt durch: WGS84Coord4(lat, lon)"
   ]
  },
  {
   "cell_type": "code",
   "execution_count": 104,
   "id": "b898fdd8-d773-4f6f-8115-6d9b01555e9a",
   "metadata": {},
   "outputs": [],
   "source": [
    "wgs84coord4 = WGS84Coord4(46, 5)"
   ]
  },
  {
   "cell_type": "code",
   "execution_count": 105,
   "id": "3a82f9d5-e288-4833-9020-6ef632c3532c",
   "metadata": {},
   "outputs": [
    {
     "name": "stderr",
     "output_type": "stream",
     "text": [
      "/var/folders/8_/89sz7q3961n_2p6drnympl1w0000gn/T/ipykernel_33307/3311713442.py:48: UserWarning: Die Lat/Lon Werte (46, 5) sind außerhalb des Geltungsbereichs:\n",
      "- name: Liechtenstein; Switzerland.\n",
      "- bounds: (5.96, 45.82, 10.49, 47.81)\n",
      "  warnings.warn(f\"Die Lat/Lon Werte ({self.latitude}, {self.longitude}) sind außerhalb des Geltungsbereichs:\\n\"\n"
     ]
    }
   ],
   "source": [
    "wgs84coord4.to_LV95()"
   ]
  },
  {
   "cell_type": "code",
   "execution_count": 106,
   "id": "9060ae5d-ddc8-4b52-a903-75c21c266fbb",
   "metadata": {},
   "outputs": [
    {
     "data": {
      "text/plain": [
       "WGS84Coord4(lat=47.5348685,lon=7.6419605)"
      ]
     },
     "execution_count": 106,
     "metadata": {},
     "output_type": "execute_result"
    }
   ],
   "source": [
    "WGS84Coord4.from_LV95(*FHNW_lv95)"
   ]
  },
  {
   "cell_type": "markdown",
   "id": "c29f5ccd-25bd-4154-8591-0fd05cdbf295",
   "metadata": {
    "tags": []
   },
   "source": [
    "## Extras (Aufgabe 1)\n",
    "- `numpy` support\n",
    "- mit `np.vectorize(func)` kann man beliebige Funktion mit Skalar-Argumenten in eine vektorisierte Funktion umwandeln (die Arrays als Argumente erlaubt)\n",
    "- `np.vectorize` benutzt aber intern eine For-Schleife, wenn man Performance braucht muss man alle beteiligte Funktionen in `numpy` umschreiben (gerne als Hausaufgabe versuchen) \n",
    "    - es geht nur um die Funktionen `check_longitude` und `check_latitude`"
   ]
  },
  {
   "cell_type": "code",
   "execution_count": 112,
   "id": "33b83cc0-29de-4953-90a5-5bdc5843b137",
   "metadata": {},
   "outputs": [],
   "source": [
    "from typing import Iterable\n",
    "import warnings\n",
    "warnings.simplefilter('always', UserWarning)\n",
    "\n",
    "import numpy as np\n",
    "\n",
    "from pyproj import CRS, Transformer\n",
    "from pyproj.enums import TransformDirection\n",
    "\n",
    "\n",
    "class WGS84Coord5:\n",
    "    crs = CRS.from_epsg(4326)\n",
    "    _crs_lv95 = CRS.from_epsg(2056)\n",
    "    \n",
    "    _trans = Transformer.from_crs(crs, _crs_lv95)\n",
    "    _limit_W, _limit_S, _limit_E, _limit_N = _crs_lv95.area_of_use.bounds\n",
    "    \n",
    "    def __init__(self, latitude=0, longitude=0):\n",
    "        self.latitude = latitude\n",
    "        self.longitude = longitude\n",
    "\n",
    "    def __repr__(self):\n",
    "        # f\"{foo!r}\" ist gleicht wie f\"{repr(foo)}\"\n",
    "        return f\"{type(self).__name__}(lat={self.latitude!r},lon={self.longitude!r})\"   \n",
    "\n",
    "    @property\n",
    "    def longitude(self):\n",
    "        return self._longitude\n",
    "    \n",
    "    @longitude.setter\n",
    "    def longitude(self, val):\n",
    "        val = parse_latlon(val)\n",
    "        if isinstance(val, (int, float)):\n",
    "            self._longitude = check_longitude(val)\n",
    "        elif isinstance(val, np.ndarray):\n",
    "            self._longitude = np.vectorize(check_longitude)(val)\n",
    "\n",
    "    @property\n",
    "    def latitude(self):\n",
    "        return self._latitude\n",
    "    \n",
    "    @latitude.setter\n",
    "    def latitude(self, val):\n",
    "        val = parse_latlon(val)\n",
    "        if isinstance(val, (int, float)):\n",
    "            self._latitude = check_latitude(val)\n",
    "        elif isinstance(val, np.ndarray):\n",
    "            self._latitude = np.vectorize(check_latitude)(val)\n",
    "\n",
    "    def to_LV95(self):\n",
    "        good = True\n",
    "        if isinstance(self.latitude, (int, float)):\n",
    "            good &= (self._limit_S <= self.latitude <= self._limit_N) \n",
    "            good &= (self._limit_W <= self.longitude <= self._limit_E)\n",
    "        else: \n",
    "            # self.latitude, self.longitude are numpy arrays\n",
    "            good &= np.all(self._limit_S < self.latitude) & np.all(self.latitude < self._limit_N)\n",
    "            good &= np.all(self._limit_W < self.longitude) & np.all(self.longitude < self._limit_E)\n",
    "            \n",
    "        if not good:\n",
    "            warnings.warn(f\"Die Lat/Lon Werte ({self.latitude!r}, {self.longitude!r}) sind außerhalb des Geltungsbereichs:\\n\"\n",
    "                          f\"{self._crs_lv95.area_of_use}\")\n",
    "\n",
    "        return self._trans.transform(self.latitude, self.longitude)\n",
    "        \n",
    "    @classmethod\n",
    "    def from_LV95(cls, E, N):\n",
    "        lat, lon = cls._trans.transform(E, N, direction=TransformDirection.INVERSE)\n",
    "        \n",
    "        return cls(lat, lon)\n",
    "\n",
    "\n",
    "def parse_latlon(val):\n",
    "    # Hilfefunktion:\n",
    "    # Versuche zu Lat/Lon zu konvertieren:\n",
    "    #  - numerische Werte (Skalare)\n",
    "    #  - strings die zu Nummern konvertierbar sind\n",
    "    #  - numpy arrays\n",
    "    #  - Iterablen (list, tuple, sets, ...)\n",
    "    if isinstance(val, (int, float)):\n",
    "        return val\n",
    "    elif isinstance(val, str):\n",
    "        return float(val)\n",
    "    elif isinstance(val, np.ndarray):\n",
    "        return val\n",
    "    elif isinstance(val, Iterable):\n",
    "        return np.asarray([parse_latlon(x) for x in val])\n",
    "    else:\n",
    "        raise ValueError(\"Expected scalar or array of ints, floats or numeric strings\")"
   ]
  },
  {
   "cell_type": "code",
   "execution_count": 113,
   "id": "ee0aad9a-b79f-4eff-8cbf-ede9afe0e189",
   "metadata": {},
   "outputs": [
    {
     "name": "stdout",
     "output_type": "stream",
     "text": [
      "WGS84Coord5(lat=47,lon=7)\n",
      "WGS84Coord5(lat=47.0,lon=7.0)\n",
      "WGS84Coord5(lat=array([47, 48, 46]),lon=array([6, 7, 7]))\n",
      "WGS84Coord5(lat=array([47., 48., 46.]),lon=array([6., 7., 7.]))\n",
      "WGS84Coord5(lat=array([47.3311691 , 45.44140789]),lon=array([7.49743445, 9.51082904]))\n"
     ]
    }
   ],
   "source": [
    "print(WGS84Coord5(47, 7))\n",
    "print(WGS84Coord5(\"47\", \"7\"))\n",
    "print(WGS84Coord5([47, 48, 46], [6, 7, 7]))\n",
    "print(WGS84Coord5([\"47\", \"48\", \"46\"], [\"6\", \"7\", \"7\"]))\n",
    "print(WGS84Coord5(np.random.uniform(44, 48, 2), np.random.uniform(5, 10, 2)))"
   ]
  },
  {
   "cell_type": "code",
   "execution_count": 114,
   "id": "3c091a47-7471-4641-8a4a-d15651db4381",
   "metadata": {},
   "outputs": [
    {
     "name": "stderr",
     "output_type": "stream",
     "text": [
      "/var/folders/8_/89sz7q3961n_2p6drnympl1w0000gn/T/ipykernel_33307/2631899545.py:61: UserWarning: Die Lat/Lon Werte (0, 0) sind außerhalb des Geltungsbereichs:\n",
      "- name: Liechtenstein; Switzerland.\n",
      "- bounds: (5.96, 45.82, 10.49, 47.81)\n",
      "  warnings.warn(f\"Die Lat/Lon Werte ({self.latitude!r}, {self.longitude!r}) sind außerhalb des Geltungsbereichs:\\n\"\n"
     ]
    },
    {
     "data": {
      "text/plain": [
       "(1398213.841086102, -4616843.613859319)"
      ]
     },
     "execution_count": 114,
     "metadata": {},
     "output_type": "execute_result"
    }
   ],
   "source": [
    "WGS84Coord5().to_LV95()"
   ]
  },
  {
   "cell_type": "markdown",
   "id": "3376b893-af90-4fb9-b03a-329a63378e68",
   "metadata": {},
   "source": [
    "### Zufällige Punkte und Karte der Schweiz in LV95 mit GeoPandas plotten"
   ]
  },
  {
   "cell_type": "code",
   "execution_count": 120,
   "id": "03c71731-882e-4c46-9d98-90db25085987",
   "metadata": {},
   "outputs": [
    {
     "data": {
      "image/png": "[encoded data removed]",
      "text/plain": [
       "<Figure size 432x288 with 1 Axes>"
      ]
     },
     "metadata": {
      "needs_background": "light"
     },
     "output_type": "display_data"
    }
   ],
   "source": [
    "lat = np.random.uniform(45.82, 47.81, size=200)\n",
    "lon = np.random.uniform(5.96, 10.49, size=200)\n",
    "\n",
    "coords = WGS84Coord5(lat, lon)\n",
    "\n",
    "plt.scatter(*coords.to_LV95());"
   ]
  },
  {
   "cell_type": "markdown",
   "id": "03c305ee-1bb8-4828-af2d-9b9f69b61b4b",
   "metadata": {},
   "source": [
    "**shapefiles für Generalisierte Kantons- / Gemeindegrenzen herunterladen**:"
   ]
  },
  {
   "cell_type": "code",
   "execution_count": 192,
   "id": "0fe9d221-da5d-423a-bf70-6a2c0dc07b68",
   "metadata": {},
   "outputs": [
    {
     "name": "stdout",
     "output_type": "stream",
     "text": [
      "Downloading data...\n",
      "Unpacking...\n",
      "Removing archive...\n"
     ]
    }
   ],
   "source": [
    "import os\n",
    "import urllib\n",
    "import shutil\n",
    "\n",
    "os.makedirs(\"daten\", exist_ok=True)\n",
    "\n",
    "if not os.path.isdir(\"daten/gemeindegrenzen/\"):\n",
    "    print(\"Downloading data...\")\n",
    "    url = \"https://www.bfs.admin.ch/bfsstatic/dam/assets/16804410/master\"\n",
    "    filename, headers = urllib.request.urlretrieve(url, \"daten/gemeindegrenzen.zip\")\n",
    "    \n",
    "    print(\"Unpacking...\")\n",
    "    shutil.unpack_archive(\"daten/gemeindegrenzen.zip\", \"daten/gemeindegrenzen\")\n",
    "    print(\"Removing archive...\")\n",
    "    os.remove(\"daten/gemeindegrenzen.zip\")"
   ]
  },
  {
   "cell_type": "code",
   "execution_count": 193,
   "id": "d56a5146-eebc-4438-b35e-4dc2194acbb0",
   "metadata": {},
   "outputs": [
    {
     "data": {
      "text/html": [
       "<div>\n",
       "<style scoped>\n",
       "    .dataframe tbody tr th:only-of-type {\n",
       "        vertical-align: middle;\n",
       "    }\n",
       "\n",
       "    .dataframe tbody tr th {\n",
       "        vertical-align: top;\n",
       "    }\n",
       "\n",
       "    .dataframe thead th {\n",
       "        text-align: right;\n",
       "    }\n",
       "</style>\n",
       "<table border=\"1\" class=\"dataframe\">\n",
       "  <thead>\n",
       "    <tr style=\"text-align: right;\">\n",
       "      <th></th>\n",
       "      <th>KTNR</th>\n",
       "      <th>KTNAME</th>\n",
       "      <th>AREA_HA</th>\n",
       "      <th>geometry</th>\n",
       "    </tr>\n",
       "  </thead>\n",
       "  <tbody>\n",
       "    <tr>\n",
       "      <th>0</th>\n",
       "      <td>1</td>\n",
       "      <td>Zürich</td>\n",
       "      <td>172894</td>\n",
       "      <td>POLYGON ((2692443.000 1281183.000, 2692994.000...</td>\n",
       "    </tr>\n",
       "    <tr>\n",
       "      <th>1</th>\n",
       "      <td>2</td>\n",
       "      <td>Bern / Berne</td>\n",
       "      <td>595951</td>\n",
       "      <td>MULTIPOLYGON (((2573533.000 1194765.000, 25740...</td>\n",
       "    </tr>\n",
       "    <tr>\n",
       "      <th>2</th>\n",
       "      <td>3</td>\n",
       "      <td>Luzern</td>\n",
       "      <td>149353</td>\n",
       "      <td>POLYGON ((2662029.000 1237691.000, 2662264.000...</td>\n",
       "    </tr>\n",
       "    <tr>\n",
       "      <th>3</th>\n",
       "      <td>4</td>\n",
       "      <td>Uri</td>\n",
       "      <td>107654</td>\n",
       "      <td>POLYGON ((2688457.000 1203340.000, 2688740.000...</td>\n",
       "    </tr>\n",
       "    <tr>\n",
       "      <th>4</th>\n",
       "      <td>5</td>\n",
       "      <td>Schwyz</td>\n",
       "      <td>90788</td>\n",
       "      <td>POLYGON ((2704723.000 1229925.000, 2706210.000...</td>\n",
       "    </tr>\n",
       "  </tbody>\n",
       "</table>\n",
       "</div>"
      ],
      "text/plain": [
       "   KTNR        KTNAME  AREA_HA  \\\n",
       "0     1        Zürich   172894   \n",
       "1     2  Bern / Berne   595951   \n",
       "2     3        Luzern   149353   \n",
       "3     4           Uri   107654   \n",
       "4     5        Schwyz    90788   \n",
       "\n",
       "                                            geometry  \n",
       "0  POLYGON ((2692443.000 1281183.000, 2692994.000...  \n",
       "1  MULTIPOLYGON (((2573533.000 1194765.000, 25740...  \n",
       "2  POLYGON ((2662029.000 1237691.000, 2662264.000...  \n",
       "3  POLYGON ((2688457.000 1203340.000, 2688740.000...  \n",
       "4  POLYGON ((2704723.000 1229925.000, 2706210.000...  "
      ]
     },
     "execution_count": 193,
     "metadata": {},
     "output_type": "execute_result"
    }
   ],
   "source": [
    "import geopandas as gpd\n",
    "\n",
    "kantone = gpd.read_file(\"daten/gemeindegrenzen/ggg_2021-LV95/shp/g1k21.shp\", encoding=\"utf-8\")\n",
    "kantone = kantone[['KTNR','KTNAME','AREA_HA', 'geometry']]\n",
    "kantone.head()"
   ]
  },
  {
   "cell_type": "code",
   "execution_count": 197,
   "id": "22e581bd-4306-43a7-8970-61003c110276",
   "metadata": {},
   "outputs": [
    {
     "data": {
      "image/png": "[encoded data removed]",
      "text/plain": [
       "<Figure size 720x504 with 1 Axes>"
      ]
     },
     "metadata": {
      "needs_background": "light"
     },
     "output_type": "display_data"
    }
   ],
   "source": [
    "from matplotlib.ticker import FuncFormatter\n",
    "\n",
    "fmt = FuncFormatter(lambda x, p: format(int(x), ','))  # Tausend-Trennzeichen in Achsen-Beschriftungen\n",
    "\n",
    "fig, ax = plt.subplots(figsize=(10, 7))\n",
    "\n",
    "kantone.plot(figsize=(10,7), ax=ax, fc=\"#2f2f2f\");\n",
    "ax.set_title(\"Schweiz (LV95)\", fontsize=16, color='#2f2f2f')\n",
    "ax.grid(color='#b2b2b2', linestyle=':', linewidth=1)\n",
    "ax.tick_params(axis='x', rotation=45)\n",
    "ax.ticklabel_format(axis='both', style='plain')\n",
    "ax.xaxis.set_major_formatter(fmt)\n",
    "ax.yaxis.set_major_formatter(fmt)\n",
    "ax.spines[:].set_visible(False);"
   ]
  },
  {
   "cell_type": "code",
   "execution_count": 195,
   "id": "1e45a034-c934-40af-8f83-7107cc7fb9f2",
   "metadata": {},
   "outputs": [
    {
     "data": {
      "text/plain": [
       "<Compound CRS: COMPD_CS[\"CH1903+ / LV95 + LN02 height\",PROJCS[\"CH ...>\n",
       "Name: CH1903+ / LV95 + LN02 height\n",
       "Axis Info [cartesian|vertical]:\n",
       "- [east]: Easting (metre)\n",
       "- [north]: Northing (metre)\n",
       "- [up]: Gravity-related height (metre)\n",
       "Area of Use:\n",
       "- undefined\n",
       "Datum: CH1903+\n",
       "- Ellipsoid: Bessel 1841\n",
       "- Prime Meridian: Greenwich\n",
       "Sub CRS:\n",
       "- CH1903+ / LV95\n",
       "- LN02 height"
      ]
     },
     "execution_count": 195,
     "metadata": {},
     "output_type": "execute_result"
    }
   ],
   "source": [
    "kantone.crs"
   ]
  },
  {
   "cell_type": "code",
   "execution_count": 200,
   "id": "8a93142e-31eb-41f5-9aa5-3fc00a543801",
   "metadata": {},
   "outputs": [
    {
     "data": {
      "image/png": "[encoded data removed]",
      "text/plain": [
       "<Figure size 864x576 with 1 Axes>"
      ]
     },
     "metadata": {
      "needs_background": "light"
     },
     "output_type": "display_data"
    }
   ],
   "source": [
    "from shapely.geometry import Point\n",
    "import matplotlib.pyplot as plt\n",
    "\n",
    "geom = [Point(x, y) for x, y in zip(*coords.to_LV95())]\n",
    "pts = gpd.GeoDataFrame(geometry=gpd.GeoSeries(geom, crs=\"epsg:2056\"))\n",
    "\n",
    "mask = pts.within(kantone.unary_union)\n",
    "\n",
    "fig, ax = plt.subplots(figsize=(12,8))\n",
    "kantone.plot(fc=\"#2f2f2f\", ax=ax);\n",
    "pts[mask].plot(ax=ax, fc=\"orange\")\n",
    "pts[~mask].plot(ax=ax, fc=\"lightgrey\");\n",
    "plt.axis('off');"
   ]
  },
  {
   "cell_type": "markdown",
   "id": "6e4ad2d4-d75f-4ef0-9206-19b6f8dadc31",
   "metadata": {},
   "source": [
    "# Aufgabe 2\n",
    "\n",
    "Gegeben sind folgende Objekte als WKT:\n",
    "\n",
    "\n",
    "```\n",
    "POINT(0 0)\n",
    "\n",
    "LINESTRING(0 0,1 1,1 2)\n",
    "\n",
    "POLYGON((0 0,4 0,4 4,0 4,0 0),(1 1, 2 1, 2 2, 1 2,1 1))\n",
    "\n",
    "MULTIPOINT(0 0,1 2)\n",
    "\n",
    "MULTILINESTRING((0 0,1 1,1 2),(2 3,3 2,5 4))\n",
    "\n",
    "MULTIPOLYGON(((0 0,4 0,4 4,0 4,0 0),(1 1,2 1,2 2,1 2,1 1)),((-1 -1,-1 -2,-2 -2,-2 -1,-1 -1)))\n",
    "\n",
    "GEOMETRYCOLLECTION(POINT(2 3),LINESTRING((2 3,3 4)))\n",
    "```\n",
    "\n",
    "a) Berechnen Sie die Fläche der Objekte (wenn sinnvoll)<br/>\n",
    "b) Berechnen Sie die Länge der Objekte (wenn sinnvoll)<br/>\n",
    "c) Stellen Sie diese mit matplotlib  dar<br/>\n",
    "\n",
    "Hinweise: \n",
    "\n",
    "* Dokumentation https://shapely.readthedocs.io/en/stable/\n",
    "* Die Fläche lässt sich mit `object.area` berechnen\n",
    "* Die Länge lässt sich mit `object.length` berechnen\n",
    "* Den Geometry-Typ können Sie in Shapely mit `object.geom_type` abfragen."
   ]
  },
  {
   "cell_type": "code",
   "execution_count": 201,
   "id": "df81b677-3f61-4acf-abbe-ad6d8825ddf9",
   "metadata": {},
   "outputs": [],
   "source": [
    "from shapely.geometry import Polygon\n",
    "from shapely import wkt\n",
    "\n",
    "wkts = [\n",
    "    \"POINT(0 0)\",\n",
    "    \"LINESTRING(0 0,1 1,1 2)\",\n",
    "    \"POLYGON((0 0,4 0,4 4,0 4,0 0),(1 1, 2 1, 2 2, 1 2,1 1))\",\n",
    "    \"MULTIPOINT(0 0,1 2)\",\n",
    "    \"MULTILINESTRING((0 0,1 1,1 2),(2 3,3 2,5 4))\",\n",
    "    \"MULTIPOLYGON(((0 0,4 0,4 4,0 4,0 0),(1 1,2 1,2 2,1 2,1 1)),((-1 -1,-1 -2,-2 -2,-2 -1,-1 -1)))\",\n",
    "    \"GEOMETRYCOLLECTION(POINT(2 3),LINESTRING(2 3,3 4))\"\n",
    "]\n"
   ]
  },
  {
   "cell_type": "code",
   "execution_count": 126,
   "id": "f4df8460-0b9e-4e24-a55c-323ad4e135f8",
   "metadata": {},
   "outputs": [
    {
     "data": {
      "image/svg+xml": [
       "<svg xmlns=\"http://www.w3.org/2000/svg\" xmlns:xlink=\"http://www.w3.org/1999/xlink\" width=\"100.0\" height=\"100.0\" viewBox=\"-2.24 -2.24 6.48 6.48\" preserveAspectRatio=\"xMinYMin meet\"><g transform=\"matrix(1,0,0,-1,0,2.0)\"><g><path fill-rule=\"evenodd\" fill=\"#66cc99\" stroke=\"#555555\" stroke-width=\"0.12960000000000002\" opacity=\"0.6\" d=\"M 0.0,0.0 L 4.0,0.0 L 4.0,4.0 L 0.0,4.0 L 0.0,0.0 z M 1.0,1.0 L 2.0,1.0 L 2.0,2.0 L 1.0,2.0 L 1.0,1.0 z\" /><path fill-rule=\"evenodd\" fill=\"#66cc99\" stroke=\"#555555\" stroke-width=\"0.12960000000000002\" opacity=\"0.6\" d=\"M -1.0,-1.0 L -1.0,-2.0 L -2.0,-2.0 L -2.0,-1.0 L -1.0,-1.0 z\" /></g></g></svg>"
      ],
      "text/plain": [
       "<shapely.geometry.multipolygon.MultiPolygon at 0x1415a9160>"
      ]
     },
     "execution_count": 126,
     "metadata": {},
     "output_type": "execute_result"
    }
   ],
   "source": [
    "wkt.loads(wkts[5])"
   ]
  },
  {
   "cell_type": "code",
   "execution_count": 127,
   "id": "7a009594-6a2a-4ff0-b485-884eede0a2bf",
   "metadata": {},
   "outputs": [
    {
     "name": "stdout",
     "output_type": "stream",
     "text": [
      "Geom. Type               AREA     LENGTH\n",
      "----------------------------------------\n",
      "Point                     0.0       0.00\n",
      "LineString                0.0       2.41\n",
      "Polygon                  15.0      20.00\n",
      "MultiPoint                0.0       0.00\n",
      "MultiLineString           0.0       6.66\n",
      "MultiPolygon             16.0      24.00\n",
      "GeometryCollection        0.0       1.41\n"
     ]
    }
   ],
   "source": [
    "print(f\"Geom. Type\".ljust(18), f\"AREA\".rjust(10), f\"LENGTH\".rjust(10))\n",
    "print(\"-\"*40)\n",
    "for wtk_str in wkts:\n",
    "    geom = wkt.loads(wtk_str)\n",
    "    print(f\"{geom.type}\".ljust(18), f\"{geom.area}\".rjust(10), f\"{geom.length:.2f}\".rjust(10))"
   ]
  },
  {
   "cell_type": "code",
   "execution_count": 128,
   "id": "cf66548f-f7d1-4138-91a2-9d17695c6b8b",
   "metadata": {},
   "outputs": [
    {
     "data": {
      "image/svg+xml": [
       "<svg xmlns=\"http://www.w3.org/2000/svg\" xmlns:xlink=\"http://www.w3.org/1999/xlink\" width=\"100.0\" height=\"100.0\" viewBox=\"-0.16 -0.16 4.32 4.32\" preserveAspectRatio=\"xMinYMin meet\"><g transform=\"matrix(1,0,0,-1,0,4.0)\"><path fill-rule=\"evenodd\" fill=\"#66cc99\" stroke=\"#555555\" stroke-width=\"0.0864\" opacity=\"0.6\" d=\"M 0.0,0.0 L 4.0,0.0 L 4.0,4.0 L 0.0,4.0 L 0.0,0.0 z M 1.0,1.0 L 2.0,1.0 L 2.0,2.0 L 1.0,2.0 L 1.0,1.0 z\" /></g></svg>"
      ],
      "text/plain": [
       "<shapely.geometry.polygon.Polygon at 0x1414d84f0>"
      ]
     },
     "execution_count": 128,
     "metadata": {},
     "output_type": "execute_result"
    }
   ],
   "source": [
    "poly = wkt.loads(wkts[2])\n",
    "poly"
   ]
  },
  {
   "cell_type": "code",
   "execution_count": 129,
   "id": "a0e49d52-5b18-402d-825b-a712e1653803",
   "metadata": {},
   "outputs": [
    {
     "data": {
      "image/svg+xml": [
       "<svg xmlns=\"http://www.w3.org/2000/svg\" xmlns:xlink=\"http://www.w3.org/1999/xlink\" width=\"100.0\" height=\"100.0\" viewBox=\"0.96 0.96 1.08 1.08\" preserveAspectRatio=\"xMinYMin meet\"><g transform=\"matrix(1,0,0,-1,0,3.0)\"><polyline fill=\"none\" stroke=\"#66cc99\" stroke-width=\"0.0216\" points=\"1.0,1.0 2.0,1.0 2.0,2.0 1.0,2.0 1.0,1.0\" opacity=\"0.8\" /></g></svg>"
      ],
      "text/plain": [
       "<shapely.geometry.polygon.LinearRing at 0x141ca93d0>"
      ]
     },
     "execution_count": 129,
     "metadata": {},
     "output_type": "execute_result"
    }
   ],
   "source": [
    "poly.interiors[0]"
   ]
  },
  {
   "cell_type": "code",
   "execution_count": 130,
   "id": "9bdd04c7-2d5c-4bf7-8e73-01cd3a3a68b8",
   "metadata": {},
   "outputs": [
    {
     "name": "stdout",
     "output_type": "stream",
     "text": [
      "20.0\n",
      "20.0\n"
     ]
    }
   ],
   "source": [
    "print(poly.length)\n",
    "print(poly.exterior.length + poly.interiors[0].length) "
   ]
  },
  {
   "cell_type": "code",
   "execution_count": 131,
   "id": "08eb6750-f447-402e-9c8f-23f96fa22403",
   "metadata": {},
   "outputs": [
    {
     "name": "stdout",
     "output_type": "stream",
     "text": [
      "15.0\n",
      "0.0\n",
      "0.0\n",
      "15.0\n"
     ]
    }
   ],
   "source": [
    "print(poly.area)\n",
    "print(poly.exterior.area)      # =0 because it's a LineString\n",
    "print(poly.interiors[0].area)  # same...\n",
    "\n",
    "from shapely.geometry import Polygon\n",
    "\n",
    "print(Polygon(poly.exterior).area - Polygon(poly.interiors[0]).area)"
   ]
  },
  {
   "cell_type": "code",
   "execution_count": 132,
   "id": "0d1cba34-4d22-415b-bd2c-30d3b9e21436",
   "metadata": {},
   "outputs": [
    {
     "data": {
      "image/svg+xml": [
       "<svg xmlns=\"http://www.w3.org/2000/svg\" xmlns:xlink=\"http://www.w3.org/1999/xlink\" width=\"100.0\" height=\"100.0\" viewBox=\"-2.24 -2.24 6.48 6.48\" preserveAspectRatio=\"xMinYMin meet\"><g transform=\"matrix(1,0,0,-1,0,2.0)\"><g><path fill-rule=\"evenodd\" fill=\"#66cc99\" stroke=\"#555555\" stroke-width=\"0.12960000000000002\" opacity=\"0.6\" d=\"M 0.0,0.0 L 4.0,0.0 L 4.0,4.0 L 0.0,4.0 L 0.0,0.0 z M 1.0,1.0 L 2.0,1.0 L 2.0,2.0 L 1.0,2.0 L 1.0,1.0 z\" /><path fill-rule=\"evenodd\" fill=\"#66cc99\" stroke=\"#555555\" stroke-width=\"0.12960000000000002\" opacity=\"0.6\" d=\"M -1.0,-1.0 L -1.0,-2.0 L -2.0,-2.0 L -2.0,-1.0 L -1.0,-1.0 z\" /></g></g></svg>"
      ],
      "text/plain": [
       "<shapely.geometry.multipolygon.MultiPolygon at 0x141348e20>"
      ]
     },
     "execution_count": 132,
     "metadata": {},
     "output_type": "execute_result"
    }
   ],
   "source": [
    "multipoly = wkt.loads(wkts[5])\n",
    "multipoly"
   ]
  },
  {
   "cell_type": "code",
   "execution_count": 133,
   "id": "04c716b1-e4c8-45bc-8e52-2ed43bc25908",
   "metadata": {},
   "outputs": [
    {
     "data": {
      "image/svg+xml": [
       "<svg xmlns=\"http://www.w3.org/2000/svg\" xmlns:xlink=\"http://www.w3.org/1999/xlink\" width=\"100.0\" height=\"100.0\" viewBox=\"-0.16 -0.16 4.32 4.32\" preserveAspectRatio=\"xMinYMin meet\"><g transform=\"matrix(1,0,0,-1,0,4.0)\"><path fill-rule=\"evenodd\" fill=\"#66cc99\" stroke=\"#555555\" stroke-width=\"0.0864\" opacity=\"0.6\" d=\"M 0.0,0.0 L 4.0,0.0 L 4.0,4.0 L 0.0,4.0 L 0.0,0.0 z M 1.0,1.0 L 2.0,1.0 L 2.0,2.0 L 1.0,2.0 L 1.0,1.0 z\" /></g></svg>"
      ],
      "text/plain": [
       "<shapely.geometry.polygon.Polygon at 0x14142ebb0>"
      ]
     },
     "execution_count": 133,
     "metadata": {},
     "output_type": "execute_result"
    }
   ],
   "source": [
    "multipoly.geoms[0]"
   ]
  },
  {
   "cell_type": "code",
   "execution_count": 134,
   "id": "5d5a9c56-fb2a-46ec-8149-8c4635d3f216",
   "metadata": {},
   "outputs": [
    {
     "data": {
      "image/svg+xml": [
       "<svg xmlns=\"http://www.w3.org/2000/svg\" xmlns:xlink=\"http://www.w3.org/1999/xlink\" width=\"100.0\" height=\"100.0\" viewBox=\"-2.04 -2.04 1.08 1.08\" preserveAspectRatio=\"xMinYMin meet\"><g transform=\"matrix(1,0,0,-1,0,-3.0)\"><path fill-rule=\"evenodd\" fill=\"#66cc99\" stroke=\"#555555\" stroke-width=\"0.0216\" opacity=\"0.6\" d=\"M -1.0,-1.0 L -1.0,-2.0 L -2.0,-2.0 L -2.0,-1.0 L -1.0,-1.0 z\" /></g></svg>"
      ],
      "text/plain": [
       "<shapely.geometry.polygon.Polygon at 0x1418beb20>"
      ]
     },
     "execution_count": 134,
     "metadata": {},
     "output_type": "execute_result"
    }
   ],
   "source": [
    "multipoly.geoms[1]  # ignore the scale"
   ]
  },
  {
   "cell_type": "code",
   "execution_count": 136,
   "id": "06098769-f4c1-4478-95be-b3f4d8e08a36",
   "metadata": {},
   "outputs": [
    {
     "name": "stdout",
     "output_type": "stream",
     "text": [
      "16.0\n",
      "16.0\n",
      "16.0\n"
     ]
    }
   ],
   "source": [
    "print(multipoly.area)\n",
    "print(multipoly.geoms[0].area + multipoly.geoms[1].area)\n",
    "print(Polygon(multipoly.geoms[0].exterior).area - Polygon(multipoly.geoms[0].interiors[0]).area + multipoly.geoms[1].area)"
   ]
  },
  {
   "cell_type": "markdown",
   "id": "39512925-3734-492d-a8f9-efb57d9878ab",
   "metadata": {},
   "source": [
    "### Plotten mit Matplotlib"
   ]
  },
  {
   "cell_type": "code",
   "execution_count": 157,
   "id": "aa5ccd48-3971-437b-bbb7-11e3fc6190d5",
   "metadata": {},
   "outputs": [
    {
     "data": {
      "image/png": "[encoded data removed]",
      "text/plain": [
       "<Figure size 432x288 with 1 Axes>"
      ]
     },
     "metadata": {
      "needs_background": "light"
     },
     "output_type": "display_data"
    }
   ],
   "source": [
    "geom = wkt.loads(wkts[0])\n",
    "\n",
    "plt.plot(*geom.xy, \"o\");\n",
    "plt.title(\"POINT\");"
   ]
  },
  {
   "cell_type": "code",
   "execution_count": 165,
   "id": "4e62dd84-cf07-4776-b6b0-2a5f1f86fe5a",
   "metadata": {},
   "outputs": [
    {
     "data": {
      "image/png": "[encoded data removed]",
      "text/plain": [
       "<Figure size 432x288 with 1 Axes>"
      ]
     },
     "metadata": {
      "needs_background": "light"
     },
     "output_type": "display_data"
    }
   ],
   "source": [
    "geom = wkt.loads(wkts[1])\n",
    "\n",
    "plt.plot(*geom.xy, \"-\");\n",
    "plt.title(\"LINESTRING\");"
   ]
  },
  {
   "cell_type": "code",
   "execution_count": 176,
   "id": "989a96f5-3dc3-4d50-abdb-27b2b8f90d93",
   "metadata": {},
   "outputs": [
    {
     "data": {
      "image/png": "[encoded data removed]",
      "text/plain": [
       "<Figure size 432x288 with 1 Axes>"
      ]
     },
     "metadata": {
      "needs_background": "light"
     },
     "output_type": "display_data"
    }
   ],
   "source": [
    "geom = wkt.loads(wkts[2])\n",
    "\n",
    "plt.plot(*geom.exterior.coords.xy, \"-k\");\n",
    "plt.fill(*geom.exterior.coords.xy, c=\"lightgray\");\n",
    "\n",
    "plt.plot(*geom.interiors[0].coords.xy, \"-k\");\n",
    "plt.fill(*geom.interiors[0].coords.xy, c=\"w\");\n",
    "\n",
    "plt.title(\"POLYGON\");"
   ]
  },
  {
   "cell_type": "markdown",
   "id": "47494344-4cc1-45b2-892c-a1bf17dd498b",
   "metadata": {},
   "source": [
    "geht's einfacher???"
   ]
  },
  {
   "cell_type": "markdown",
   "id": "3e48f13d-969c-4c29-8f65-c983f40f7c8d",
   "metadata": {},
   "source": [
    "## Exkurs: Rekursion\n",
    "- Rekursive Funktion: Funktion, die sich selber aufruft"
   ]
  },
  {
   "cell_type": "code",
   "execution_count": 177,
   "id": "d2c0021b-d120-4714-b877-6c53bbff13af",
   "metadata": {},
   "outputs": [],
   "source": [
    "import time\n",
    "\n",
    "def endless():\n",
    "    time.sleep(0.1)\n",
    "    print(\".\", end=\" \")\n",
    "    \n",
    "    endless() # calls itself "
   ]
  },
  {
   "cell_type": "code",
   "execution_count": 179,
   "id": "a17a3c2d-0833-4f90-9983-7f570dced893",
   "metadata": {},
   "outputs": [],
   "source": [
    "# Stoppen: Diese Zelle auswählen und den Interpreter stoppen\n",
    "endless()"
   ]
  },
  {
   "cell_type": "markdown",
   "id": "06a7eba8-71f5-46a6-b977-e9fb3754826a",
   "metadata": {},
   "source": [
    "Eine rekursive Funktion braucht ein Terminationskriterium\n",
    "- ein Signal das die Rekursion stoppt\n",
    "- eine rekursive Funktion die an allen Elementen einer *endlichen* Liste (o.Ä.) aufgerufen wird"
   ]
  },
  {
   "cell_type": "code",
   "execution_count": 180,
   "id": "8369a6d8-60a7-49d4-bc34-af1304745349",
   "metadata": {},
   "outputs": [],
   "source": [
    "def not_so_endless(n=100):\n",
    "    if n == 0:\n",
    "        return\n",
    "    \n",
    "    time.sleep(0.1)\n",
    "    print(\".\", end=\" \")\n",
    "    n -= 1\n",
    "    \n",
    "    not_so_endless(n)"
   ]
  },
  {
   "cell_type": "code",
   "execution_count": 181,
   "id": "2639dfbd-8af7-4f53-b1db-cc1b846332b5",
   "metadata": {},
   "outputs": [
    {
     "name": "stdout",
     "output_type": "stream",
     "text": [
      ". . . . . . . . . . . . . . . . . . . . "
     ]
    }
   ],
   "source": [
    "not_so_endless(20)"
   ]
  },
  {
   "cell_type": "markdown",
   "id": "a2b4317d-5e0b-4d72-a3db-06e37b007101",
   "metadata": {},
   "source": [
    "- mit **Rekursion** können gewisse Probleme einfacher gelöst werden\n",
    "- viele Datenstrukturen lassen sich gut mit rekursiven Methoden bearbeiten\n",
    "    - verschachtelte Listen (nested lists)\n",
    "    - Graphen, Baumstrukturen, ...\n",
    "    - HTML DOM"
   ]
  },
  {
   "cell_type": "markdown",
   "id": "30c8b3ba-fa72-49d1-bb34-23f676c2dffb",
   "metadata": {},
   "source": [
    "**Beispiel**"
   ]
  },
  {
   "cell_type": "code",
   "execution_count": 182,
   "id": "c4f6842c-80b9-4d29-85e1-ffacf4b60912",
   "metadata": {},
   "outputs": [],
   "source": [
    "# flatten a possibly nested list\n",
    "def flatten(alist, outlist):\n",
    "    for el in alist:   # die Länge der alist ist das Terminationskriterium\n",
    "        if isinstance(el, list):\n",
    "            flatten(el, outlist)\n",
    "        else:\n",
    "            outlist.append(el)\n",
    "    return outlist\n",
    "        "
   ]
  },
  {
   "cell_type": "code",
   "execution_count": 183,
   "id": "c5b535f5-ce6e-4035-a66b-6f898d7dd312",
   "metadata": {},
   "outputs": [
    {
     "data": {
      "text/plain": [
       "[1, 2, 3, 4, 5, 6, 7, 8, 9, 10]"
      ]
     },
     "execution_count": 183,
     "metadata": {},
     "output_type": "execute_result"
    }
   ],
   "source": [
    "out = []\n",
    "L = [1,2,3, [4,[5, 6], 7, 8], 9, [10]]\n",
    "\n",
    "flatten(L, out)"
   ]
  },
  {
   "cell_type": "code",
   "execution_count": 184,
   "id": "769d6b70-62e8-4147-beb0-71bc2594bc47",
   "metadata": {},
   "outputs": [],
   "source": [
    "def plot_geom(geom, ax=None, figsize=(6, 6), marker='o', edgecolor='k', fillcolor='lightgray'):\n",
    "    if ax is None:\n",
    "        fig, ax = plt.subplots(figsize=figsize)\n",
    "    \n",
    "    if geom.geom_type == 'Point':\n",
    "        ax.plot(geom.x, geom.y, marker=marker, color=edgecolor)\n",
    "\n",
    "    elif geom.geom_type == 'LineString':\n",
    "        ax.plot(*geom.coords.xy, color=edgecolor)\n",
    "    \n",
    "    elif geom.geom_type == 'Polygon':\n",
    "        ax.plot(*geom.exterior.coords.xy, color=edgecolor)\n",
    "        ax.fill(*geom.exterior.coords.xy, color=fillcolor)\n",
    "        for inter in geom.interiors:\n",
    "            poly = Polygon(inter)\n",
    "            plot_geom(poly, ax=ax, fillcolor='w')  # Rekursion\n",
    "    else:\n",
    "        # Collections and Multi*\n",
    "        for g in geom.geoms:\n",
    "            plot_geom(g, ax=ax)   # Rekursion\n",
    "            \n",
    "    ax.set_title(geom.type)"
   ]
  },
  {
   "cell_type": "code",
   "execution_count": 185,
   "id": "cb2f5d16-b189-4227-bf7c-309315995a2a",
   "metadata": {},
   "outputs": [
    {
     "data": {
      "image/png": "[encoded data removed]",
      "text/plain": [
       "<Figure size 432x432 with 1 Axes>"
      ]
     },
     "metadata": {
      "needs_background": "light"
     },
     "output_type": "display_data"
    }
   ],
   "source": [
    "plot_geom(wkt.loads(wkts[5]))"
   ]
  },
  {
   "cell_type": "code",
   "execution_count": 186,
   "id": "211f8727-5965-4383-8d54-3c42345d0b53",
   "metadata": {},
   "outputs": [
    {
     "data": {
      "image/png": "[encoded data removed]",
      "text/plain": [
       "<Figure size 720x720 with 9 Axes>"
      ]
     },
     "metadata": {
      "needs_background": "light"
     },
     "output_type": "display_data"
    }
   ],
   "source": [
    "fig, axes = plt.subplots(3, 3, figsize=(10, 10)) \n",
    "axes = axes.ravel()\n",
    "\n",
    "for i, wkt_str in enumerate(wkts):\n",
    "    geom = wkt.loads(wkt_str)\n",
    "    plot_geom(geom, ax=axes[i])\n",
    "\n",
    "extra_axes = len(axes) - len(wkts)\n",
    "\n",
    "# hide last two axes\n",
    "for ax in axes[-extra_axes:]:\n",
    "    ax.axis('off')\n",
    "plt.tight_layout()"
   ]
  },
  {
   "cell_type": "code",
   "execution_count": null,
   "id": "61a8b54c-17e1-4623-ba34-7333ba570fcf",
   "metadata": {},
   "outputs": [],
   "source": []
  }
 ],
 "metadata": {
  "kernelspec": {
   "display_name": "Python [conda env:geo]",
   "language": "python",
   "name": "conda-env-geo-py"
  },
  "language_info": {
   "codemirror_mode": {
    "name": "ipython",
    "version": 3
   },
   "file_extension": ".py",
   "mimetype": "text/x-python",
   "name": "python",
   "nbconvert_exporter": "python",
   "pygments_lexer": "ipython3",
   "version": "3.9.7"
  }
 },
 "nbformat": 4,
 "nbformat_minor": 5
}
