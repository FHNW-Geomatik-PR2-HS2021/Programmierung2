{
 "cells": [
  {
   "cell_type": "markdown",
   "id": "82ee2f2f-4ecc-4904-81ca-63b228981363",
   "metadata": {},
   "source": [
    "Die `python` Datei `numerik.py` mit folgenden Inhalt:\n",
    "\n",
    "```\n",
    "import numpy as np\n",
    "\n",
    "a = np.array([1,2,3,4], dtype=np.float64)\n",
    "b = np.array(list(range(0,11))) / 10\n",
    "\n",
    "c = np.array([ [1,2,3],[4,5,6],[7,8,9] ])\n",
    "\n",
    "new_var = np.random.random(10)\n",
    "```\n",
    "\n",
    "lässt sich wie ein normales python Modul importieren (dafür muss die Datei in dem gleichen Ordner gespeichert sein, sonst müsste man die `sys.path` Variable anpassen...)."
   ]
  },
  {
   "cell_type": "code",
   "execution_count": 5,
   "id": "72915722-2db4-4052-a956-31db86717935",
   "metadata": {},
   "outputs": [],
   "source": [
    "import numerik\n",
    "from numerik import new_var"
   ]
  },
  {
   "cell_type": "code",
   "execution_count": 6,
   "id": "c04c18b6-5208-4fb0-a372-ab36da0678b8",
   "metadata": {},
   "outputs": [
    {
     "data": {
      "text/plain": [
       "array([1., 2., 3., 4.])"
      ]
     },
     "execution_count": 6,
     "metadata": {},
     "output_type": "execute_result"
    }
   ],
   "source": [
    "numerik.a"
   ]
  },
  {
   "cell_type": "code",
   "execution_count": 7,
   "id": "e4255dc7-bc65-471f-aba5-2247f518ad3e",
   "metadata": {},
   "outputs": [
    {
     "data": {
      "text/plain": [
       "array([0.09174527, 0.67208376, 0.43213394, 0.61521954, 0.01456838,\n",
       "       0.97422008, 0.56476843, 0.67654593, 0.77103929, 0.30915768])"
      ]
     },
     "execution_count": 7,
     "metadata": {},
     "output_type": "execute_result"
    }
   ],
   "source": [
    "numerik.new_var"
   ]
  },
  {
   "cell_type": "code",
   "execution_count": 8,
   "id": "d080bd9d-65fb-483b-a563-8755d5162a50",
   "metadata": {},
   "outputs": [
    {
     "data": {
      "text/plain": [
       "array([0.09174527, 0.67208376, 0.43213394, 0.61521954, 0.01456838,\n",
       "       0.97422008, 0.56476843, 0.67654593, 0.77103929, 0.30915768])"
      ]
     },
     "execution_count": 8,
     "metadata": {},
     "output_type": "execute_result"
    }
   ],
   "source": [
    "new_var"
   ]
  },
  {
   "cell_type": "code",
   "execution_count": null,
   "id": "42901b3f-23cb-4e97-9247-d8d2e9c9bc03",
   "metadata": {},
   "outputs": [],
   "source": []
  }
 ],
 "metadata": {
  "kernelspec": {
   "display_name": "Python 3 (ipykernel)",
   "language": "python",
   "name": "python3"
  },
  "language_info": {
   "codemirror_mode": {
    "name": "ipython",
    "version": 3
   },
   "file_extension": ".py",
   "mimetype": "text/x-python",
   "name": "python",
   "nbconvert_exporter": "python",
   "pygments_lexer": "ipython3",
   "version": "3.9.5"
  }
 },
 "nbformat": 4,
 "nbformat_minor": 5
}
