{
 "cells": [
  {
   "cell_type": "markdown",
   "id": "98677373-4bc8-4ccf-92a8-cc7b3271bd8e",
   "metadata": {
    "tags": []
   },
   "source": [
    "# Conways Spiel des Lebens\n",
    "\n",
    "![](https://upload.wikimedia.org/wikipedia/commons/e/e5/Gospers_glider_gun.gif)\n",
    "\n",
    "![](https://upload.wikimedia.org/wikipedia/commons/6/64/Trefoil_knot_conways_game_of_life.gif)\n",
    "\n",
    "https://de.wikipedia.org/wiki/Conways_Spiel_des_Lebens"
   ]
  },
  {
   "cell_type": "markdown",
   "id": "9cfeaa82-a69c-4fb8-b1de-f807f52d17de",
   "metadata": {},
   "source": [
    "## Die Spielregeln\n",
    "\n",
    "- Eine tote Zelle mit genau drei lebenden Nachbarn wird in der Folgegeneration neu geboren.\n",
    "- Lebende Zellen mit weniger als zwei lebenden Nachbarn sterben in der Folgegeneration an Einsamkeit.\n",
    "- Eine lebende Zelle mit zwei oder drei lebenden Nachbarn bleibt in der Folgegeneration am Leben.\n",
    "- Lebende Zellen mit mehr als drei lebenden Nachbarn sterben in der Folgegeneration an Überbevölkerung.\n",
    "\n",
    "\n",
    "## Wie programmieren wir es? Teil 1 - die Nachbarn zählen\n",
    "- für jede Zelle auf einem 2D Grid (der Lebensraum der Zellen) müssen wir die Anzahl ihrer unmittelbaren Nachbarn zählen\n",
    "- Moore-Nachbarschaft: https://de.wikipedia.org/wiki/Moore-Nachbarschaft"
   ]
  },
  {
   "cell_type": "markdown",
   "id": "dfac4fee-4580-40db-bd49-7b4fddd0fa27",
   "metadata": {},
   "source": [
    "### Das Spielfeld\n",
    "- 2D `numpy` array\n",
    "- bei den 2D arrays, kann man sich die erste Dimension (axis=0) als Zeilen und die zweite als Spalten (axis=1) vorstellen\n",
    "- wenn wir es als Bild darstellen ist (0,0) oben links und die erste Dimension (\"Zeilen\") ist y, die zweite (\"Spalten\") ist x\n",
    "\n",
    "![](https://i.stack.imgur.com/NWTQH.png)"
   ]
  },
  {
   "cell_type": "code",
   "execution_count": 1,
   "id": "5602fbc4-a686-406b-bc83-f77be9747fc3",
   "metadata": {},
   "outputs": [],
   "source": [
    "import numpy as np\n",
    "import matplotlib.pyplot as plt"
   ]
  },
  {
   "cell_type": "code",
   "execution_count": 2,
   "id": "28ad89a6-cb1d-411d-90af-66598aa9f43a",
   "metadata": {
    "tags": []
   },
   "outputs": [],
   "source": [
    "# irgendein Test Spielfeld\n",
    "arr = np.array([\n",
    "    [0, 0, 0, 0, 0, 0, 0],\n",
    "    [0, 1, 0, 0, 0, 0, 0],\n",
    "    [0, 0, 0, 1, 0, 0, 0],\n",
    "    [0, 0, 1, 1, 1, 0, 0],\n",
    "    [0, 0, 0, 1, 0, 0, 0],\n",
    "    [0, 0, 0, 1, 1, 0, 0],\n",
    "    [0, 0, 0, 0, 0, 0, 0],\n",
    "])\n",
    "\n",
    "\n",
    "def show_mat(mat, labels=None):\n",
    "    fig, ax = plt.subplots(figsize=(4,4))\n",
    "    ax.matshow(mat, cmap='binary')\n",
    "    \n",
    "    if not labels is None:\n",
    "        if not mat.shape == labels.shape:\n",
    "            raise ValueError(f\"Shape mismatch: {mat.shape} {labels.shape}\")\n",
    "        for y in range(mat.shape[0]):\n",
    "            for x in range(mat.shape[1]):\n",
    "                val = mat[y,x]\n",
    "                c = 'k' if val == 0 else 'w'\n",
    "                ax.text(x, y, str(labels[y,x]), ha=\"center\", va=\"center\", c=c);\n",
    "                "
   ]
  },
  {
   "cell_type": "code",
   "execution_count": 3,
   "id": "353122a0-fba7-4ae8-ae56-4d1551f292ce",
   "metadata": {},
   "outputs": [
    {
     "data": {
      "image/png": "[encoded data removed]",
      "text/plain": [
       "<Figure size 288x288 with 1 Axes>"
      ]
     },
     "metadata": {
      "needs_background": "light"
     },
     "output_type": "display_data"
    }
   ],
   "source": [
    "show_mat(arr)"
   ]
  },
  {
   "cell_type": "code",
   "execution_count": 5,
   "id": "dc02a675-bb9a-42f7-bf1b-af24809b5f15",
   "metadata": {},
   "outputs": [
    {
     "data": {
      "image/png": "[encoded data removed]",
      "text/plain": [
       "<Figure size 288x288 with 1 Axes>"
      ]
     },
     "metadata": {
      "needs_background": "light"
     },
     "output_type": "display_data"
    }
   ],
   "source": [
    "# labels ist eine Matrix mit gleicher Größe (shape) wir unser Spielfeld, \n",
    "# die die Anzahl der Nachbarn angibt.\n",
    "# Da wir die Nachbarn noch nicht gezählt haben, zeigen wir jetzt nur \n",
    "# ob die Zelle lebt (Wert 1) oder nicht (Wert 0).\n",
    "show_mat(arr, labels=arr)"
   ]
  },
  {
   "cell_type": "markdown",
   "id": "8834df14-3b54-49c3-b1a5-6a0f6584f959",
   "metadata": {},
   "source": [
    "### 1. Iteration: mit der Python `for` Schleife\n",
    "- gehe jede Zelle durch: für jede Zeile (y) und für jede Spalte (x)\n",
    "- ...und zähle die Nachbarn:\n",
    "    - links\n",
    "    - rechts\n",
    "    - oben\n",
    "    - unten\n",
    "    - oben-links\n",
    "    - unten-links\n",
    "    - oben-rechts\n",
    "    - unten-rechts\n",
    "\n",
    "**gehe jede Zelle durch**:\n",
    "```python\n",
    "for y in range(arr.shape[0]):\n",
    "    for x in range(arr.shape[1]):\n",
    "        # x, y -> Koordinaten der aktuellen Zelle\n",
    "        # arr[y, x] -> Wert der aktuellen Zelle (0 oder 1)\n",
    "```\n",
    "\n",
    "**Nachbarn mit indexing finden**:\n",
    "```python\n",
    "arr[y, x-1]   # links\n",
    "arr[y, x+1]   # rechts\n",
    "arr[y-1, x]   # oben\n",
    "arr[y-1, x-1] # oben-links\n",
    "# ...\n",
    "```\n",
    "\n",
    "**Probleme**:\n",
    "- z.B. Nachbarn der Zelle `arr[0,0]`:\n",
    "    - links:      `arr[0,-1]`\n",
    "    - oben-links: `arr[-1,-1]`\n",
    "- in Python Index `-1` ist das letzte Element, `-2` das vorletzten Element, usw. \n",
    "\n",
    "```python\n",
    "np.arange(5)       # array([0, 1, 2, 3, 4])\n",
    "np.arange(5)[-1]   # 4\n",
    "np.arange(5)[-2]   # 3\n",
    "```\n",
    "\n",
    "- oder bei allen Zellen ganz rechts:\n",
    "    - rechts: `arr[0,x+1]` ist größer als die Dimension x\n",
    "    \n",
    "- müssen diese Eck-Fälle abfangen"
   ]
  },
  {
   "cell_type": "code",
   "execution_count": 17,
   "id": "1f6a72fc-1f22-4565-b6fb-84de132f248f",
   "metadata": {},
   "outputs": [],
   "source": [
    "# Wegen des oben beschrieben Problems werden wir \n",
    "# statt Array Indexing mit arr[y,x] eigene Funktion benutzen\n",
    "def at_index(arr, idy, idx):\n",
    "    if idx == -1 or idy == -1:\n",
    "        return 0\n",
    "    elif (idx > arr.shape[1] - 1) or (idy > arr.shape[0] - 1):\n",
    "        return 0\n",
    "    else:\n",
    "        return arr[idy, idx]\n",
    "    \n",
    "\n",
    "# Nachbarn zählen mit for-Schleife\n",
    "# Kann auch für Von-Neumann-Nachbarschaft benutzt werden: \n",
    "# https://de.wikipedia.org/wiki/Von-Neumann-Nachbarschaft\n",
    "def count_adjacent_python(arr, diagonal=True):\n",
    "    res = np.zeros_like(arr)\n",
    "    for y in range(arr.shape[0]):\n",
    "        for x in range(arr.shape[1]):\n",
    "            left_idx = x - 1\n",
    "            right_idx = x + 1\n",
    "            above_idx = y - 1\n",
    "            below_idx = y + 1\n",
    "            \n",
    "            l = at_index(arr, y, left_idx)\n",
    "            r = at_index(arr, y, right_idx)\n",
    "            a = at_index(arr, above_idx, x)\n",
    "            b = at_index(arr, below_idx, x)\n",
    "           \n",
    "            res[y, x] = l + r + a + b\n",
    "                \n",
    "            if diagonal:\n",
    "                la = at_index(arr, above_idx, left_idx)\n",
    "                lb = at_index(arr, below_idx, left_idx)\n",
    "                ra = at_index(arr, above_idx, right_idx)\n",
    "                rb = at_index(arr, below_idx, right_idx)\n",
    "                \n",
    "                res[y, x] += la + lb + ra + rb\n",
    "            \n",
    "    return res"
   ]
  },
  {
   "cell_type": "code",
   "execution_count": 18,
   "id": "6835bc44-e809-43a8-8fc3-3b566ce932db",
   "metadata": {},
   "outputs": [
    {
     "data": {
      "image/png": "[encoded data removed]",
      "text/plain": [
       "<Figure size 288x288 with 1 Axes>"
      ]
     },
     "metadata": {
      "needs_background": "light"
     },
     "output_type": "display_data"
    }
   ],
   "source": [
    "n_adjacent = count_adjacent_python(arr, diagonal=False)\n",
    "show_mat(arr, n_adjacent)"
   ]
  },
  {
   "cell_type": "code",
   "execution_count": 19,
   "id": "354a386a-9d8c-4ab9-8b56-4fb5a49a2628",
   "metadata": {},
   "outputs": [
    {
     "data": {
      "image/png": "[encoded data removed]",
      "text/plain": [
       "<Figure size 288x288 with 1 Axes>"
      ]
     },
     "metadata": {
      "needs_background": "light"
     },
     "output_type": "display_data"
    }
   ],
   "source": [
    "n_adjacent = count_adjacent_python(arr, diagonal=True)    \n",
    "show_mat(arr, n_adjacent)"
   ]
  },
  {
   "cell_type": "markdown",
   "id": "c58f16da-95ed-4da4-b8b2-83643e195a3a",
   "metadata": {},
   "source": [
    "### Großes Spielfeld"
   ]
  },
  {
   "cell_type": "code",
   "execution_count": 20,
   "id": "efb0d2f1-8fc1-46a2-bf6c-08389f1a418f",
   "metadata": {},
   "outputs": [],
   "source": [
    "def random_mat(shape=(7,7), fraction=.3):\n",
    "    res = np.zeros(shape)\n",
    "    n_ones = int(fraction * res.size)\n",
    "    idx = np.random.randint(0, shape[1], size=n_ones)\n",
    "    idy = np.random.randint(0, shape[0], size=n_ones)\n",
    "    \n",
    "    res[idy, idx] = 1\n",
    "    \n",
    "    return res\n"
   ]
  },
  {
   "cell_type": "code",
   "execution_count": 21,
   "id": "26d0d111-c462-47c1-ba20-f746701ab761",
   "metadata": {},
   "outputs": [
    {
     "data": {
      "image/png": "[encoded data removed]",
      "text/plain": [
       "<Figure size 288x288 with 1 Axes>"
      ]
     },
     "metadata": {
      "needs_background": "light"
     },
     "output_type": "display_data"
    }
   ],
   "source": [
    "shape = (1000, 1000)\n",
    "large_arr = random_mat(shape=shape)\n",
    "\n",
    "show_mat(large_arr)"
   ]
  },
  {
   "cell_type": "markdown",
   "id": "60fb4e51-66cb-40d3-af8d-4aefd03a1189",
   "metadata": {},
   "source": [
    "### Performance"
   ]
  },
  {
   "cell_type": "code",
   "execution_count": 39,
   "id": "6f78d9ef-4ecf-4f3a-a104-07e85cbb55c7",
   "metadata": {},
   "outputs": [
    {
     "name": "stdout",
     "output_type": "stream",
     "text": [
      "5.03 s ± 55.6 ms per loop (mean ± std. dev. of 7 runs, 1 loop each)\n"
     ]
    }
   ],
   "source": [
    "%%timeit\n",
    "count_adjacent_python(large_arr, diagonal=True)"
   ]
  },
  {
   "cell_type": "markdown",
   "id": "f0c93062-f2bb-4388-b8dc-2de7fccd17bf",
   "metadata": {},
   "source": [
    "**die Python for-Schleifen sind notorisch zu langsam!!!**"
   ]
  },
  {
   "cell_type": "markdown",
   "id": "e326d826-5a10-44bf-ae96-7484eca32110",
   "metadata": {},
   "source": [
    "### 2. Iteration: mit `numpy`\n",
    "- \"array computing\": https://en.wikipedia.org/wiki/Array_programming\n",
    "- Rechen-Operationen an ganzen arrays statt an einzelnen Elementen ausführen (\"vektorisierte Operation\") \n",
    "- Vermeiden von `for` Schleifen\n",
    "\n",
    "\n",
    "#### Das Zählen von Nachbarn als eine Array-Operation - wie geht das? "
   ]
  },
  {
   "cell_type": "code",
   "execution_count": 22,
   "id": "46f0299f-8d18-4079-bad3-ff0216f9dfde",
   "metadata": {},
   "outputs": [
    {
     "data": {
      "image/png": "[encoded data removed]",
      "text/plain": [
       "<Figure size 288x288 with 1 Axes>"
      ]
     },
     "metadata": {
      "needs_background": "light"
     },
     "output_type": "display_data"
    }
   ],
   "source": [
    "show_mat(arr)"
   ]
  },
  {
   "cell_type": "markdown",
   "id": "a726a926-c445-4b2e-a176-03634766184a",
   "metadata": {},
   "source": [
    "#### Idee\n",
    "Alle **rechte** Nachbarn für alle Zellen:\n",
    "- verschiebe alle Zellen nach links und erfasse die Werte (0 kein Nachbar, 1 ein Nachbar)\n",
    "- die Zellen am rechten Rand bekommen einen Wert 0\n",
    "\n",
    "ähnlich für **links**, **oben**,..., **links-oben**,...\n",
    "\n",
    "- starte mit einem array mit 0 Werten und addiere verschobene Versionen von dem Spielfeld:\n",
    "\n",
    "```python\n",
    "n_adjacent = np.zeros_like(arr)\n",
    "n_adjacent += shift_felt(arr) + shift_right(arr) + ...\n",
    "```\n"
   ]
  },
  {
   "cell_type": "code",
   "execution_count": 23,
   "id": "76595c2a-e978-45a2-b224-a3e59303af83",
   "metadata": {},
   "outputs": [],
   "source": [
    "# Stellen wir uns vor, diese Funktion ist in `numpy`\n",
    "# bereits implementiert. Es reicht zu wissen, was sie \n",
    "# macht, nicht wie sie das macht..\n",
    "#\n",
    "# Diese Funktion verschiebt alle Elemente eines Array\n",
    "# in die angegebene Richtung:\n",
    "#   rechts:      dx =  1\n",
    "#   links:       dx = -1\n",
    "#   oben-rechts: dx =  1, dy = -1  \n",
    "#\n",
    "def shift(arr, dx=0, dy=0):\n",
    "    def _axis(d):\n",
    "        if d == 1:\n",
    "            before_after = (1, 0)\n",
    "        elif d == -1:\n",
    "            before_after = (0, 1)\n",
    "        elif d == 0:\n",
    "            before_after = (0, 0)\n",
    "        return before_after\n",
    "    \n",
    "    axis_x = _axis(dx)\n",
    "    axis_y = _axis(dy)\n",
    "    padded = np.pad(arr, (axis_y, axis_x), mode='constant')\n",
    "    \n",
    "    from_x, to_x = 0 + axis_x[1], padded.shape[1] - axis_x[0]\n",
    "    from_y, to_y = 0 + axis_y[1], padded.shape[0] - axis_y[0]\n",
    "    \n",
    "    return padded[from_y:to_y, from_x:to_x] \n",
    "    \n"
   ]
  },
  {
   "cell_type": "code",
   "execution_count": 26,
   "id": "e03ba264-299d-468c-b41b-c43e4e6ed0f4",
   "metadata": {},
   "outputs": [
    {
     "data": {
      "image/png": "[encoded data removed]",
      "text/plain": [
       "<Figure size 288x288 with 1 Axes>"
      ]
     },
     "metadata": {
      "needs_background": "light"
     },
     "output_type": "display_data"
    }
   ],
   "source": [
    "# Verschieben -> probiere verschieden dx, dy Werte (zulässing 0,1,-1)\n",
    "show_mat(shift(arr, dx=1, dy=0))"
   ]
  },
  {
   "cell_type": "code",
   "execution_count": 27,
   "id": "9eaf5715-90eb-4760-a3c9-9811f0001bcd",
   "metadata": {},
   "outputs": [],
   "source": [
    "# unsere numpy Lösung\n",
    "def count_adjacent_numpy(arr, diagonal=True):\n",
    "    \n",
    "    n_adjacent = np.zeros_like(arr)\n",
    "    \n",
    "    # shift left, right, up & down\n",
    "    n_adjacent += shift(arr, dx=-1) + shift(arr, dx=1) + shift(arr, dy=-1) + shift(arr, dy=1)\n",
    "    \n",
    "    if diagonal:\n",
    "        # shift diagonally\n",
    "        n_adjacent += shift(arr, dx=-1, dy=-1) + shift(arr, dx=1, dy=1) + shift(arr, dx=1, dy=-1) + shift(arr, dx=-1, dy=1)\n",
    "        \n",
    "    return n_adjacent\n"
   ]
  },
  {
   "cell_type": "code",
   "execution_count": 28,
   "id": "b1aa9714-31b5-4c8a-bf03-778f41735adf",
   "metadata": {},
   "outputs": [
    {
     "data": {
      "image/png": "[encoded data removed]",
      "text/plain": [
       "<Figure size 288x288 with 1 Axes>"
      ]
     },
     "metadata": {
      "needs_background": "light"
     },
     "output_type": "display_data"
    }
   ],
   "source": [
    "n_adjacent = count_adjacent_numpy(arr)    \n",
    "show_mat(arr, n_adjacent)"
   ]
  },
  {
   "cell_type": "code",
   "execution_count": 29,
   "id": "8b4ec913-ff6a-4eff-9301-6b51e05b1851",
   "metadata": {},
   "outputs": [
    {
     "data": {
      "image/png": "[encoded data removed]",
      "text/plain": [
       "<Figure size 288x288 with 1 Axes>"
      ]
     },
     "metadata": {
      "needs_background": "light"
     },
     "output_type": "display_data"
    }
   ],
   "source": [
    "n_adjacent = count_adjacent_numpy(arr, diagonal=False)    \n",
    "show_mat(arr, n_adjacent)"
   ]
  },
  {
   "cell_type": "markdown",
   "id": "0339dd8c-e16c-43ed-ab58-bec7f492244c",
   "metadata": {},
   "source": [
    "### Lösungen identisch???"
   ]
  },
  {
   "cell_type": "code",
   "execution_count": 35,
   "id": "b9e1553c-cfb4-41ad-9968-f8621cf071b3",
   "metadata": {},
   "outputs": [
    {
     "name": "stdout",
     "output_type": "stream",
     "text": [
      "[[ True  True  True  True  True  True  True]\n",
      " [ True  True  True  True  True  True  True]\n",
      " [ True  True  True  True  True  True  True]\n",
      " [ True  True  True  True  True  True  True]\n",
      " [ True  True  True  True  True  True  True]\n",
      " [ True  True  True  True  True  True  True]\n",
      " [ True  True  True  True  True  True  True]]\n"
     ]
    },
    {
     "data": {
      "text/plain": [
       "True"
      ]
     },
     "execution_count": 35,
     "metadata": {},
     "output_type": "execute_result"
    }
   ],
   "source": [
    "print(count_adjacent_python(arr) == count_adjacent_numpy(arr))\n",
    "np.all(count_adjacent_python(arr) == count_adjacent_numpy(arr))"
   ]
  },
  {
   "cell_type": "code",
   "execution_count": 36,
   "id": "7618ec10-4353-4d37-86c8-7b3bc0fe2944",
   "metadata": {
    "tags": []
   },
   "outputs": [
    {
     "name": "stdout",
     "output_type": "stream",
     "text": [
      "[[ True  True  True  True  True  True  True]\n",
      " [ True  True  True  True  True  True  True]\n",
      " [ True  True  True  True  True  True  True]\n",
      " [ True  True  True  True  True  True  True]\n",
      " [ True  True  True  True  True  True  True]\n",
      " [ True  True  True  True  True  True  True]\n",
      " [ True  True  True  True  True  True  True]]\n"
     ]
    },
    {
     "data": {
      "text/plain": [
       "True"
      ]
     },
     "execution_count": 36,
     "metadata": {},
     "output_type": "execute_result"
    }
   ],
   "source": [
    "print(count_adjacent_python(arr, diagonal=False) == count_adjacent_numpy(arr, diagonal=False))\n",
    "np.all(count_adjacent_python(arr, diagonal=False) == count_adjacent_numpy(arr, diagonal=False))"
   ]
  },
  {
   "cell_type": "markdown",
   "id": "53861013-49ea-4552-b0c6-389ce35173d8",
   "metadata": {},
   "source": [
    "### Performance: `numpy`\n"
   ]
  },
  {
   "cell_type": "code",
   "execution_count": 37,
   "id": "c28b217e-3152-4e30-92aa-b42108051243",
   "metadata": {},
   "outputs": [
    {
     "data": {
      "image/png": "[encoded data removed]",
      "text/plain": [
       "<Figure size 288x288 with 1 Axes>"
      ]
     },
     "metadata": {
      "needs_background": "light"
     },
     "output_type": "display_data"
    }
   ],
   "source": [
    "show_mat(large_arr)"
   ]
  },
  {
   "cell_type": "code",
   "execution_count": 40,
   "id": "ae89817e-c620-4ae4-9210-a39ccf032c65",
   "metadata": {},
   "outputs": [
    {
     "name": "stdout",
     "output_type": "stream",
     "text": [
      "25.8 ms ± 431 µs per loop (mean ± std. dev. of 7 runs, 10 loops each)\n"
     ]
    }
   ],
   "source": [
    "%%timeit\n",
    "count_adjacent_numpy(large_arr, diagonal=True)"
   ]
  },
  {
   "cell_type": "code",
   "execution_count": 41,
   "id": "121506bf-a7f5-424e-84af-1d1ea34592bf",
   "metadata": {},
   "outputs": [],
   "source": [
    "# diese Werte werden unterschiedlich sein\n",
    "took_python_ms = 5000\n",
    "took_numpy_ms = 26\n",
    "numpy_faster = int(took_python_ms/took_numpy_ms)"
   ]
  },
  {
   "cell_type": "code",
   "execution_count": 43,
   "id": "566f55ab-40f6-4130-848d-de852c02588e",
   "metadata": {},
   "outputs": [
    {
     "data": {
      "text/html": [
       "<p><font size=\"6\">Numpy <span style=\"color:red\"><b>192</b></span> schneller für eine 1000x1000 Matrix als Python for-Schleife!!!</font></p>"
      ],
      "text/plain": [
       "<IPython.core.display.HTML object>"
      ]
     },
     "execution_count": 43,
     "metadata": {},
     "output_type": "execute_result"
    }
   ],
   "source": [
    "from IPython.display import HTML\n",
    "\n",
    "HTML(f'<p><font size=\"6\">Numpy <span style=\"color:red\"><b>{numpy_faster}</b></span>'\n",
    "     ' schneller für eine 1000x1000 Matrix als Python for-Schleife!!!</font></p>')"
   ]
  },
  {
   "cell_type": "code",
   "execution_count": null,
   "id": "d07320c7-9f66-405e-b7df-730cb45bcbe7",
   "metadata": {},
   "outputs": [],
   "source": []
  }
 ],
 "metadata": {
  "kernelspec": {
   "display_name": "Python [conda env:sci39]",
   "language": "python",
   "name": "conda-env-sci39-py"
  },
  "language_info": {
   "codemirror_mode": {
    "name": "ipython",
    "version": 3
   },
   "file_extension": ".py",
   "mimetype": "text/x-python",
   "name": "python",
   "nbconvert_exporter": "python",
   "pygments_lexer": "ipython3",
   "version": "3.9.7"
  }
 },
 "nbformat": 4,
 "nbformat_minor": 5
}
